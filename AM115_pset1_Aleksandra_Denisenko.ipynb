{
  "nbformat": 4,
  "nbformat_minor": 0,
  "metadata": {
    "colab": {
      "provenance": [],
      "authorship_tag": "ABX9TyPqDLmrmOIr803ji9Oi7KYP",
      "include_colab_link": true
    },
    "kernelspec": {
      "name": "python3",
      "display_name": "Python 3"
    },
    "language_info": {
      "name": "python"
    }
  },
  "cells": [
    {
      "cell_type": "markdown",
      "metadata": {
        "id": "view-in-github",
        "colab_type": "text"
      },
      "source": [
        "<a href=\"https://colab.research.google.com/github/adenisenko01/am115/blob/main/AM115_pset1_Aleksandra_Denisenko.ipynb\" target=\"_parent\"><img src=\"https://colab.research.google.com/assets/colab-badge.svg\" alt=\"Open In Colab\"/></a>"
      ]
    },
    {
      "cell_type": "markdown",
      "source": [
        "# **AM 115 Problem Set 1: Aleksandra Denisenko**"
      ],
      "metadata": {
        "id": "imqcj-Z-J2R1"
      }
    },
    {
      "cell_type": "markdown",
      "source": [
        "##**Problem 1: Maximum Likelihood Estimation (10 points)**\n",
        "\n",
        "*Suppose the World Series were best of 3 games. Assume like Mostellar that each game is a Bernoulli trial with probability p. Assume that we see n0 events where the losing team wins 0 games, n1 events where the losing team wins 1 game.*\n",
        "\n",
        "$1.$ **I am going to derive the likelihood of the observations where the losing team wins $0$ events $n_0$ times and $1$ event $n_1$ times, given that each game is a Bernouli trial with probability $p$ and the game is the best-of-three.**\n",
        "\n",
        "First, let's define the probability of the first team to win: $P(w_1) = p$;\n",
        "The probability of the second team to win is $P(w_2)=1-p$.\n",
        "\n",
        "The losing team can win $0$ times if the winning team wins the first $2$ rounds or if the losing team loses the first two rounds. Then the probability that the losing team will win $0$ times is defined as $P(0) = p^2 +(1-p)^2$\n",
        "\n",
        "Then, there are two ways for the losing team to win just one round. For team A: WLL or LWL, for team B: WLL or LWL, so there are just two permutations for both teams that make it possible.\n",
        "\n",
        "Then, $P(1)= 2p^2*(1-p) + 2(1-p)^2p$\n",
        "\n",
        "The probability of observing the result $n_0$ (2:0) is $[P(2-0)]^n_0$ as the events are independent. The probability of obserwing the result $n_1$ is $[P(2-1)]^n_1$ due to the same reasoning.\n",
        "\n",
        "**Therefore, the likelihood of the observations for the best-of-three games with the losing team winning $0$ times in $n_0$ events and $1$ time in $n_1$ event is:** $$\n",
        "L(p) = (p^2+(1-p)^2)^{n_0}* (2p^2*(1-p) + 2(1-p)^2p)^{n_1}\n",
        "$$\n",
        "\n",
        "\n",
        "$2.$ *Analytical derivation using the log-likelihood calculated in $a$ is based on the fact that the derivative of this function with respect to $p$ yields the maximum likelihood when set to zero*.\n",
        "\n",
        "**First, find the log-likelihood to simplify calculations. The overall log-likelihood:**\n",
        "$$\n",
        "\\ln L(p) = n_0 ln(p^2+(1-p)^2) + n_1 ln(2p^2*(1-p) + 2(1-p)^2p)$$\n",
        "\n",
        "**Then, we will take a derivative with respect to $p$ and set it to $0$.**\n",
        "Given:\n",
        "$$\\frac{d}{dp} [n_0 ln(p^2+(1-p)^2) + n_1 ln(2p^2*(1-p) + 2(1-p)^2p)] = 0$$\n",
        "\n",
        "**According to Wolfram Alpha, the derivative is:**\n",
        "$$\n",
        "\\frac{d}{dp}\\left(n_0 \\log(p^2 + (1 - p)^2) + n_1 \\log(2 p^2 (1 - p) + 2 (1 - p)^2 p)\\right) = $$ $$\\frac{(2 p - 1) (n_1 (2 p^2 - 2 p + 1) - 2 n_0 (1 - p) p)}{(p - 1) p (2 p^2 - 2 p + 1)}\n",
        "$$\n",
        "\n",
        "Setting it equal to zero:\n",
        "\n",
        "**Again using Wolfram alpha:** $$2 p^2 - 2 p + 1 \\neq 0, $$$$ n_1 = \\frac {-2 (n_0 p^2 - n_0 p)}{2 p^2 - 2 p + 1}, $$$$p^2 - p \\neq 0$$\n",
        "$$p=0.5$$.\n",
        "\n",
        "This expression gives me the **MLE $p = 0.5$**, based on my observations of how many games the losing team wins.\n"
      ],
      "metadata": {
        "id": "6Nz6VbQJnLr5"
      }
    },
    {
      "cell_type": "markdown",
      "source": [
        "$3.$ *Calculate $p$ from the MLE equation above given the data.*"
      ],
      "metadata": {
        "id": "DyICUes889Pi"
      }
    },
    {
      "cell_type": "code",
      "execution_count": null,
      "metadata": {
        "colab": {
          "base_uri": "https://localhost:8080/"
        },
        "id": "hDU55pNIOOIz",
        "outputId": "ba2e3464-48a3-491c-a204-b77b0f8ed2ee"
      },
      "outputs": [
        {
          "output_type": "stream",
          "name": "stdout",
          "text": [
            "Maximum likelihood estimate for p: 0.523\n"
          ]
        }
      ],
      "source": [
        "won_by_losing_team = [1, 1, 1, 0, 0, 0, 0, 0, 0, 0,\n",
        "           1, 0, 1, 1, 1, 1, 1, 1, 0, 0,\n",
        "           1, 1, 1, 0, 1, 1, 1, 0, 0, 0,\n",
        "           0, 1, 1, 1, 1, 0, 0, 1, 0, 0,\n",
        "           1, 1, 0, 0]\n",
        "\n",
        "n1 = won_by_losing_team.count(1)\n",
        "n0 = won_by_losing_team.count(0)\n",
        "\n",
        "p_analytic = n1 / (n0 + n1)\n",
        "\n",
        "print(f'Maximum likelihood estimate for p: {p_analytic:.3f}')"
      ]
    },
    {
      "cell_type": "markdown",
      "source": [
        "**Via the code above, the MLE = $0.523$.**"
      ],
      "metadata": {
        "id": "VpURvi9xYp1d"
      }
    },
    {
      "cell_type": "markdown",
      "source": [
        "$4.$"
      ],
      "metadata": {
        "id": "VgeAkGARKu1b"
      }
    },
    {
      "cell_type": "code",
      "source": [
        "## 4) I will find the numeric estimate of the MLE following the code from the class\n",
        "# define bernoulli log-likelihood\n",
        "import numpy as np\n",
        "import scipy\n",
        "import matplotlib.pyplot as plt\n",
        "plt.rcParams.update({'font.size': 15})\n",
        "# Define Bernoulli negative log-likelihood\n",
        "def NLL_bernoulli(p, trials):\n",
        "    '''Bernoulli negative log-likelihood'''\n",
        "    trials = np.array(trials)\n",
        "    neg_log_likelihood = -np.sum(trials * np.log(p) + (1 - trials) * np.log(1 - p))\n",
        "    return neg_log_likelihood\n",
        "\n",
        "# Initial (random) guess for p\n",
        "p_init = np.random.uniform()\n",
        "\n",
        "# Minimize with scipy routines\n",
        "epsilon = 1e-5\n",
        "opt_results = scipy.optimize.minimize(\n",
        "    lambda p: NLL_bernoulli(p[0], won_by_losing_team),\n",
        "    [p_init],\n",
        "    bounds=[(epsilon, 1 - epsilon)]\n",
        ")\n",
        "\n",
        "p_numeric = opt_results.x.squeeze()\n",
        "print(f'Numeric min. p = {p_numeric:.3f}')"
      ],
      "metadata": {
        "colab": {
          "base_uri": "https://localhost:8080/"
        },
        "id": "Jr7K_7mH_0UT",
        "outputId": "76d0ebb0-a219-4261-f889-ffef83f3aa79"
      },
      "execution_count": null,
      "outputs": [
        {
          "output_type": "stream",
          "name": "stdout",
          "text": [
            "Numeric min. p = 0.523\n"
          ]
        }
      ]
    },
    {
      "cell_type": "markdown",
      "source": [
        "**Via the code above, numeric min = $0.523$.**"
      ],
      "metadata": {
        "id": "qYk8hv-rYyEB"
      }
    },
    {
      "cell_type": "code",
      "source": [
        "print(f'Analytic estimate\\t p = {p_analytic:.3f}')\n",
        "print(f'Numeric estimate\\t p = {p_numeric:.3f}')"
      ],
      "metadata": {
        "colab": {
          "base_uri": "https://localhost:8080/"
        },
        "id": "hCfAFqDubA7c",
        "outputId": "a0dd7a7d-e1e9-44f1-dde0-99c91577838b"
      },
      "execution_count": null,
      "outputs": [
        {
          "output_type": "stream",
          "name": "stdout",
          "text": [
            "Analytic estimate\t p = 0.523\n",
            "Numeric estimate\t p = 0.523\n"
          ]
        }
      ]
    },
    {
      "cell_type": "markdown",
      "source": [
        "**As we found above, numeric estimation for the MLE and the analytical calculation give the same result $p=0.523$.**\n",
        "\n",
        "All the code above was borrowed and adapted from lecture notebook."
      ],
      "metadata": {
        "id": "FLsgO8fMZB8d"
      }
    },
    {
      "cell_type": "markdown",
      "source": [
        "##**Problem 2: Variants on Mostellar (10 points)**\n",
        "*1. Mosteller analyzed 44 world series and determined that p = 0.65. Take this value of p\n",
        "and carry out a Monte Carlo simulation of 44 different world series (each with at most\n",
        "7 games), and compare the distribution of the number of games that the losing team\n",
        "wins to Mostellar’s results. Now repeat this exercise but with 4400 different world\n",
        "series.*"
      ],
      "metadata": {
        "id": "ZXCZawLiQtvo"
      }
    },
    {
      "cell_type": "code",
      "source": [
        "# 44 sets of 7 games\n",
        "import numpy as np\n",
        "import matplotlib.pyplot as plt\n",
        "\n",
        "def simulate_single_game(p):\n",
        "    # Simulate a single game\n",
        "    if np.random.uniform() < p:\n",
        "        return 0  # Winning team wins the game\n",
        "    else:\n",
        "        return 1  # Losing team wins the game\n",
        "\n",
        "# Define parameters\n",
        "num_series_44 = 44\n",
        "num_series_4400 = 4400\n",
        "num_games_per_series = 7\n",
        "p_mosteller = 0.65\n",
        "\n",
        "# Compute one series\n",
        "def simulate_series(num_games, p):\n",
        "    series_wins_by_losing_team = 0\n",
        "    series_wins = 0\n",
        "    for _ in range(num_games):\n",
        "        outcome = simulate_single_game(p)\n",
        "        if outcome == 1:\n",
        "            series_wins_by_losing_team += 1\n",
        "        else:\n",
        "            series_wins += 1\n",
        "        if series_wins == 4:\n",
        "            break  # End the series if the losing team wins 4 games\n",
        "\n",
        "    return series_wins_by_losing_team\n",
        "\n",
        "# Iterate to have multiple series computed\n",
        "def simulate_multiple_series(num_series, num_games_per_series, p):\n",
        "    num_games_won = np.zeros(num_series)\n",
        "    for i in range(num_series):\n",
        "        num_games_won[i] = simulate_series(num_games_per_series, p)\n",
        "\n",
        "    return num_games_won\n",
        "\n",
        "# Simulate the World Series for 44 and 4400 times\n",
        "num_games_won_44 = simulate_multiple_series(num_series_44, num_games_per_series, p_mosteller)\n",
        "num_games_won_4400 = simulate_multiple_series(num_series_4400, num_games_per_series, p_mosteller)\n",
        "\n",
        "# Plot the histograms\n",
        "plt.figure(figsize=(16, 6))\n",
        "\n",
        "plt.subplot(1, 2, 1)\n",
        "plt.hist(num_games_won_44, bins=np.arange(5), alpha=0.5, label='44 Series')\n",
        "plt.xlabel('Number of Games won by Losing Team')\n",
        "plt.ylabel('Frequency')\n",
        "plt.xticks(np.arange(5))\n",
        "plt.title('Distribution of Times Losing Team Wins in 44-Game Series')\n",
        "\n",
        "plt.subplot(1, 2, 2)\n",
        "plt.hist(num_games_won_4400, bins=np.arange(5), alpha=0.5, label='4400 Series')\n",
        "plt.xlabel('Number of Games won by Losing Team')\n",
        "plt.ylabel('Frequency')\n",
        "plt.xticks(np.arange(5))\n",
        "plt.title('Distribution of Times Losing Team Wins in 4400-Game Series')\n",
        "\n",
        "plt.tight_layout()\n",
        "plt.show()"
      ],
      "metadata": {
        "colab": {
          "base_uri": "https://localhost:8080/",
          "height": 592
        },
        "id": "3LOvWj0DddK3",
        "outputId": "7371c4de-3cc9-41bc-eea3-9255e1af20c7"
      },
      "execution_count": 37,
      "outputs": [
        {
          "output_type": "display_data",
          "data": {
            "text/plain": [
              "<Figure size 1600x600 with 2 Axes>"
            ],
            "image/png": "[encoded data removed]"
          },
          "metadata": {}
        }
      ]
    },
    {
      "cell_type": "markdown",
      "source": [
        "The code was written with a help of a student who graduated from Harvard and took the class a while ago."
      ],
      "metadata": {
        "id": "Kn3MtJ_meE0g"
      }
    },
    {
      "cell_type": "code",
      "source": [
        "# Calculate and display the average number of games won by the losing team in each of the series.\n",
        "average_44 = np.mean(num_games_won_44)\n",
        "average_4400 = np.mean(num_games_won_4400)\n",
        "print('Average Number of Games Won by the Losing Team in the 44-game Simulation: ', average_44)\n",
        "print('Average Number of Games Won by the Losing Team in the 4400-game Simulation: ', average_4400)\n"
      ],
      "metadata": {
        "colab": {
          "base_uri": "https://localhost:8080/"
        },
        "id": "a_tI44tzevzj",
        "outputId": "f7ac6ef6-35cd-4ed2-bd9d-34fe65fed9f9"
      },
      "execution_count": null,
      "outputs": [
        {
          "output_type": "stream",
          "name": "stdout",
          "text": [
            "Average Number of Games Won by the Losing Team in the 44-game Simulation:  1.8636363636363635\n",
            "Average Number of Games Won by the Losing Team in the 4400-game Simulation:  2.0379545454545456\n"
          ]
        }
      ]
    },
    {
      "cell_type": "markdown",
      "source": [
        " *Does the fraction of games that the losing team won change significantly by\n",
        "changing the number of Series played? Were Mosteller’s measurements for the first\n",
        "fifty years of the twentieth century lucky?*\n",
        "\n",
        "**The fraction of games won by the losing team changed significantly by changing the number of Series played. We can see in the first graph that due to a limited sample size, there is a huge variance between the number of the won games every single time the simulation is ran. When we increase the sample size, the frequency of winning converges closer to the true value but still does not reach it. That being said, since the graphs are different, the p values are different, so the Monteller model is just lucky, but not robust :(**"
      ],
      "metadata": {
        "id": "Jc4VCczffzOo"
      }
    },
    {
      "cell_type": "markdown",
      "source": [
        "*2. In 1976, baseball players were given the right to become free agents, which meant\n",
        "that they could switch teams much more easily. Analyze the probability that the\n",
        "better team wins the world series after 1976. If it does not hold, please formulate a\n",
        "hypothesis of what a new model might be. Note: We have provided a csv file of the\n",
        "win/loss for all world series on the course web site and github.*\n",
        "\n",
        "**I will use and modify the code from Lecture 2 notebook**"
      ],
      "metadata": {
        "id": "LoFTxUlokyUe"
      }
    },
    {
      "cell_type": "code",
      "source": [
        "!git clone https://github.com/fmottes/Harvard-AM115-2024.git\n",
        "\n",
        "DATA_PATH = 'Harvard-AM115-2024/Data/'"
      ],
      "metadata": {
        "colab": {
          "base_uri": "https://localhost:8080/"
        },
        "id": "MqlVVQ8CkwmR",
        "outputId": "e4ddc759-7709-41dc-b989-6ba50261195a"
      },
      "execution_count": null,
      "outputs": [
        {
          "output_type": "stream",
          "name": "stdout",
          "text": [
            "Cloning into 'Harvard-AM115-2024'...\n",
            "remote: Enumerating objects: 135, done.\u001b[K\n",
            "remote: Counting objects: 100% (74/74), done.\u001b[K\n",
            "remote: Compressing objects: 100% (60/60), done.\u001b[K\n",
            "remote: Total 135 (delta 32), reused 53 (delta 13), pack-reused 61 (from 1)\u001b[K\n",
            "Receiving objects: 100% (135/135), 11.76 MiB | 21.89 MiB/s, done.\n",
            "Resolving deltas: 100% (48/48), done.\n"
          ]
        }
      ]
    },
    {
      "cell_type": "code",
      "source": [
        "import numpy as np\n",
        "import scipy\n",
        "import pandas as pd\n",
        "\n",
        "import matplotlib.pyplot as plt\n",
        "plt.rcParams.update({'font.size': 15})"
      ],
      "metadata": {
        "id": "s-wZVkWjlEY7"
      },
      "execution_count": null,
      "outputs": []
    },
    {
      "cell_type": "code",
      "source": [
        "#read data into pandas dataframe\n",
        "with open(DATA_PATH+'L02-World_Series_History.csv', 'r') as fh:\n",
        "    ws_history = pd.read_csv(fh, skiprows=2)\n",
        "\n",
        "ws_history.head()"
      ],
      "metadata": {
        "colab": {
          "base_uri": "https://localhost:8080/",
          "height": 206
        },
        "id": "S-0lkXKElKZj",
        "outputId": "2a5b6637-8f41-4a46-be0a-52016cda3946"
      },
      "execution_count": null,
      "outputs": [
        {
          "output_type": "execute_result",
          "data": {
            "text/plain": [
              "   Year       AL Winner WinsAL WinsNL              NL Winner\n",
              "0  2023   Texas Rangers      4      1   Arizona Diamondbacks\n",
              "1  2022  Houston Astros      4      2  Philadelphia Phillies\n",
              "2  2021  Houston Astros      2      4         Atlanta Braves\n",
              "3  2020  Tampa Bay Rays      2      4    Los Angeles Dodgers\n",
              "4  2019  Houston Astros      3      4   Washington Nationals"
            ],
            "text/html": [
              "\n",
              "  <div id=\"df-da22b839-206f-4d7c-b8ab-110164734ba6\" class=\"colab-df-container\">\n",
              "    <div>\n",
              "<style scoped>\n",
              "    .dataframe tbody tr th:only-of-type {\n",
              "        vertical-align: middle;\n",
              "    }\n",
              "\n",
              "    .dataframe tbody tr th {\n",
              "        vertical-align: top;\n",
              "    }\n",
              "\n",
              "    .dataframe thead th {\n",
              "        text-align: right;\n",
              "    }\n",
              "</style>\n",
              "<table border=\"1\" class=\"dataframe\">\n",
              "  <thead>\n",
              "    <tr style=\"text-align: right;\">\n",
              "      <th></th>\n",
              "      <th>Year</th>\n",
              "      <th>AL Winner</th>\n",
              "      <th>WinsAL</th>\n",
              "      <th>WinsNL</th>\n",
              "      <th>NL Winner</th>\n",
              "    </tr>\n",
              "  </thead>\n",
              "  <tbody>\n",
              "    <tr>\n",
              "      <th>0</th>\n",
              "      <td>2023</td>\n",
              "      <td>Texas Rangers</td>\n",
              "      <td>4</td>\n",
              "      <td>1</td>\n",
              "      <td>Arizona Diamondbacks</td>\n",
              "    </tr>\n",
              "    <tr>\n",
              "      <th>1</th>\n",
              "      <td>2022</td>\n",
              "      <td>Houston Astros</td>\n",
              "      <td>4</td>\n",
              "      <td>2</td>\n",
              "      <td>Philadelphia Phillies</td>\n",
              "    </tr>\n",
              "    <tr>\n",
              "      <th>2</th>\n",
              "      <td>2021</td>\n",
              "      <td>Houston Astros</td>\n",
              "      <td>2</td>\n",
              "      <td>4</td>\n",
              "      <td>Atlanta Braves</td>\n",
              "    </tr>\n",
              "    <tr>\n",
              "      <th>3</th>\n",
              "      <td>2020</td>\n",
              "      <td>Tampa Bay Rays</td>\n",
              "      <td>2</td>\n",
              "      <td>4</td>\n",
              "      <td>Los Angeles Dodgers</td>\n",
              "    </tr>\n",
              "    <tr>\n",
              "      <th>4</th>\n",
              "      <td>2019</td>\n",
              "      <td>Houston Astros</td>\n",
              "      <td>3</td>\n",
              "      <td>4</td>\n",
              "      <td>Washington Nationals</td>\n",
              "    </tr>\n",
              "  </tbody>\n",
              "</table>\n",
              "</div>\n",
              "    <div class=\"colab-df-buttons\">\n",
              "\n",
              "  <div class=\"colab-df-container\">\n",
              "    <button class=\"colab-df-convert\" onclick=\"convertToInteractive('df-da22b839-206f-4d7c-b8ab-110164734ba6')\"\n",
              "            title=\"Convert this dataframe to an interactive table.\"\n",
              "            style=\"display:none;\">\n",
              "\n",
              "  <svg xmlns=\"http://www.w3.org/2000/svg\" height=\"24px\" viewBox=\"0 -960 960 960\">\n",
              "    <path d=\"M120-120v-720h720v720H120Zm60-500h600v-160H180v160Zm220 220h160v-160H400v160Zm0 220h160v-160H400v160ZM180-400h160v-160H180v160Zm440 0h160v-160H620v160ZM180-180h160v-160H180v160Zm440 0h160v-160H620v160Z\"/>\n",
              "  </svg>\n",
              "    </button>\n",
              "\n",
              "  <style>\n",
              "    .colab-df-container {\n",
              "      display:flex;\n",
              "      gap: 12px;\n",
              "    }\n",
              "\n",
              "    .colab-df-convert {\n",
              "      background-color: #E8F0FE;\n",
              "      border: none;\n",
              "      border-radius: 50%;\n",
              "      cursor: pointer;\n",
              "      display: none;\n",
              "      fill: #1967D2;\n",
              "      height: 32px;\n",
              "      padding: 0 0 0 0;\n",
              "      width: 32px;\n",
              "    }\n",
              "\n",
              "    .colab-df-convert:hover {\n",
              "      background-color: #E2EBFA;\n",
              "      box-shadow: 0px 1px 2px rgba(60, 64, 67, 0.3), 0px 1px 3px 1px rgba(60, 64, 67, 0.15);\n",
              "      fill: #174EA6;\n",
              "    }\n",
              "\n",
              "    .colab-df-buttons div {\n",
              "      margin-bottom: 4px;\n",
              "    }\n",
              "\n",
              "    [theme=dark] .colab-df-convert {\n",
              "      background-color: #3B4455;\n",
              "      fill: #D2E3FC;\n",
              "    }\n",
              "\n",
              "    [theme=dark] .colab-df-convert:hover {\n",
              "      background-color: #434B5C;\n",
              "      box-shadow: 0px 1px 3px 1px rgba(0, 0, 0, 0.15);\n",
              "      filter: drop-shadow(0px 1px 2px rgba(0, 0, 0, 0.3));\n",
              "      fill: #FFFFFF;\n",
              "    }\n",
              "  </style>\n",
              "\n",
              "    <script>\n",
              "      const buttonEl =\n",
              "        document.querySelector('#df-da22b839-206f-4d7c-b8ab-110164734ba6 button.colab-df-convert');\n",
              "      buttonEl.style.display =\n",
              "        google.colab.kernel.accessAllowed ? 'block' : 'none';\n",
              "\n",
              "      async function convertToInteractive(key) {\n",
              "        const element = document.querySelector('#df-da22b839-206f-4d7c-b8ab-110164734ba6');\n",
              "        const dataTable =\n",
              "          await google.colab.kernel.invokeFunction('convertToInteractive',\n",
              "                                                    [key], {});\n",
              "        if (!dataTable) return;\n",
              "\n",
              "        const docLinkHtml = 'Like what you see? Visit the ' +\n",
              "          '<a target=\"_blank\" href=https://colab.research.google.com/notebooks/data_table.ipynb>data table notebook</a>'\n",
              "          + ' to learn more about interactive tables.';\n",
              "        element.innerHTML = '';\n",
              "        dataTable['output_type'] = 'display_data';\n",
              "        await google.colab.output.renderOutput(dataTable, element);\n",
              "        const docLink = document.createElement('div');\n",
              "        docLink.innerHTML = docLinkHtml;\n",
              "        element.appendChild(docLink);\n",
              "      }\n",
              "    </script>\n",
              "  </div>\n",
              "\n",
              "\n",
              "<div id=\"df-fd6d9d28-800a-48c5-92e1-e978fd4277f3\">\n",
              "  <button class=\"colab-df-quickchart\" onclick=\"quickchart('df-fd6d9d28-800a-48c5-92e1-e978fd4277f3')\"\n",
              "            title=\"Suggest charts\"\n",
              "            style=\"display:none;\">\n",
              "\n",
              "<svg xmlns=\"http://www.w3.org/2000/svg\" height=\"24px\"viewBox=\"0 0 24 24\"\n",
              "     width=\"24px\">\n",
              "    <g>\n",
              "        <path d=\"M19 3H5c-1.1 0-2 .9-2 2v14c0 1.1.9 2 2 2h14c1.1 0 2-.9 2-2V5c0-1.1-.9-2-2-2zM9 17H7v-7h2v7zm4 0h-2V7h2v10zm4 0h-2v-4h2v4z\"/>\n",
              "    </g>\n",
              "</svg>\n",
              "  </button>\n",
              "\n",
              "<style>\n",
              "  .colab-df-quickchart {\n",
              "      --bg-color: #E8F0FE;\n",
              "      --fill-color: #1967D2;\n",
              "      --hover-bg-color: #E2EBFA;\n",
              "      --hover-fill-color: #174EA6;\n",
              "      --disabled-fill-color: #AAA;\n",
              "      --disabled-bg-color: #DDD;\n",
              "  }\n",
              "\n",
              "  [theme=dark] .colab-df-quickchart {\n",
              "      --bg-color: #3B4455;\n",
              "      --fill-color: #D2E3FC;\n",
              "      --hover-bg-color: #434B5C;\n",
              "      --hover-fill-color: #FFFFFF;\n",
              "      --disabled-bg-color: #3B4455;\n",
              "      --disabled-fill-color: #666;\n",
              "  }\n",
              "\n",
              "  .colab-df-quickchart {\n",
              "    background-color: var(--bg-color);\n",
              "    border: none;\n",
              "    border-radius: 50%;\n",
              "    cursor: pointer;\n",
              "    display: none;\n",
              "    fill: var(--fill-color);\n",
              "    height: 32px;\n",
              "    padding: 0;\n",
              "    width: 32px;\n",
              "  }\n",
              "\n",
              "  .colab-df-quickchart:hover {\n",
              "    background-color: var(--hover-bg-color);\n",
              "    box-shadow: 0 1px 2px rgba(60, 64, 67, 0.3), 0 1px 3px 1px rgba(60, 64, 67, 0.15);\n",
              "    fill: var(--button-hover-fill-color);\n",
              "  }\n",
              "\n",
              "  .colab-df-quickchart-complete:disabled,\n",
              "  .colab-df-quickchart-complete:disabled:hover {\n",
              "    background-color: var(--disabled-bg-color);\n",
              "    fill: var(--disabled-fill-color);\n",
              "    box-shadow: none;\n",
              "  }\n",
              "\n",
              "  .colab-df-spinner {\n",
              "    border: 2px solid var(--fill-color);\n",
              "    border-color: transparent;\n",
              "    border-bottom-color: var(--fill-color);\n",
              "    animation:\n",
              "      spin 1s steps(1) infinite;\n",
              "  }\n",
              "\n",
              "  @keyframes spin {\n",
              "    0% {\n",
              "      border-color: transparent;\n",
              "      border-bottom-color: var(--fill-color);\n",
              "      border-left-color: var(--fill-color);\n",
              "    }\n",
              "    20% {\n",
              "      border-color: transparent;\n",
              "      border-left-color: var(--fill-color);\n",
              "      border-top-color: var(--fill-color);\n",
              "    }\n",
              "    30% {\n",
              "      border-color: transparent;\n",
              "      border-left-color: var(--fill-color);\n",
              "      border-top-color: var(--fill-color);\n",
              "      border-right-color: var(--fill-color);\n",
              "    }\n",
              "    40% {\n",
              "      border-color: transparent;\n",
              "      border-right-color: var(--fill-color);\n",
              "      border-top-color: var(--fill-color);\n",
              "    }\n",
              "    60% {\n",
              "      border-color: transparent;\n",
              "      border-right-color: var(--fill-color);\n",
              "    }\n",
              "    80% {\n",
              "      border-color: transparent;\n",
              "      border-right-color: var(--fill-color);\n",
              "      border-bottom-color: var(--fill-color);\n",
              "    }\n",
              "    90% {\n",
              "      border-color: transparent;\n",
              "      border-bottom-color: var(--fill-color);\n",
              "    }\n",
              "  }\n",
              "</style>\n",
              "\n",
              "  <script>\n",
              "    async function quickchart(key) {\n",
              "      const quickchartButtonEl =\n",
              "        document.querySelector('#' + key + ' button');\n",
              "      quickchartButtonEl.disabled = true;  // To prevent multiple clicks.\n",
              "      quickchartButtonEl.classList.add('colab-df-spinner');\n",
              "      try {\n",
              "        const charts = await google.colab.kernel.invokeFunction(\n",
              "            'suggestCharts', [key], {});\n",
              "      } catch (error) {\n",
              "        console.error('Error during call to suggestCharts:', error);\n",
              "      }\n",
              "      quickchartButtonEl.classList.remove('colab-df-spinner');\n",
              "      quickchartButtonEl.classList.add('colab-df-quickchart-complete');\n",
              "    }\n",
              "    (() => {\n",
              "      let quickchartButtonEl =\n",
              "        document.querySelector('#df-fd6d9d28-800a-48c5-92e1-e978fd4277f3 button');\n",
              "      quickchartButtonEl.style.display =\n",
              "        google.colab.kernel.accessAllowed ? 'block' : 'none';\n",
              "    })();\n",
              "  </script>\n",
              "</div>\n",
              "\n",
              "    </div>\n",
              "  </div>\n"
            ],
            "application/vnd.google.colaboratory.intrinsic+json": {
              "type": "dataframe",
              "variable_name": "ws_history",
              "summary": "{\n  \"name\": \"ws_history\",\n  \"rows\": 121,\n  \"fields\": [\n    {\n      \"column\": \"Year\",\n      \"properties\": {\n        \"dtype\": \"number\",\n        \"std\": 35,\n        \"min\": 1903,\n        \"max\": 2023,\n        \"num_unique_values\": 121,\n        \"samples\": [\n          1979,\n          1976,\n          2019\n        ],\n        \"semantic_type\": \"\",\n        \"description\": \"\"\n      }\n    },\n    {\n      \"column\": \"AL Winner\",\n      \"properties\": {\n        \"dtype\": \"category\",\n        \"num_unique_values\": 20,\n        \"samples\": [\n          \"Texas Rangers\",\n          \"Washington Nationals\",\n          \"Milwaukee Brewers\"\n        ],\n        \"semantic_type\": \"\",\n        \"description\": \"\"\n      }\n    },\n    {\n      \"column\": \"WinsAL\",\n      \"properties\": {\n        \"dtype\": \"category\",\n        \"num_unique_values\": 7,\n        \"samples\": [\n          \"4\",\n          \"2\",\n          \"NoWorldSeries\"\n        ],\n        \"semantic_type\": \"\",\n        \"description\": \"\"\n      }\n    },\n    {\n      \"column\": \"WinsNL\",\n      \"properties\": {\n        \"dtype\": \"category\",\n        \"num_unique_values\": 7,\n        \"samples\": [\n          \"1\",\n          \"2\",\n          \"NoWorldSeries\"\n        ],\n        \"semantic_type\": \"\",\n        \"description\": \"\"\n      }\n    },\n    {\n      \"column\": \"NL Winner\",\n      \"properties\": {\n        \"dtype\": \"category\",\n        \"num_unique_values\": 21,\n        \"samples\": [\n          \"Arizona Diamondbacks\",\n          \"Brooklyn Dodgers\",\n          \"Pittsburgh Pirates\"\n        ],\n        \"semantic_type\": \"\",\n        \"description\": \"\"\n      }\n    }\n  ]\n}"
            }
          },
          "metadata": {},
          "execution_count": 35
        }
      ]
    },
    {
      "cell_type": "code",
      "source": [
        "### CLEAN DATASET\n",
        "\n",
        "#sort and index by year\n",
        "ws_history = ws_history.sort_values('Year').set_index('Year')\n",
        "\n",
        "#convert missing data to NaN and delete records\n",
        "ws_history = ws_history.replace('NoWorldSeries', np.NaN)\n",
        "ws_history = ws_history.dropna()\n",
        "\n",
        "#delete years where WS was best-of-nine\n",
        "ws_history = ws_history.drop([1903,1919,1920,1921])\n",
        "\n",
        "#convert to correct datatypes\n",
        "ws_history = ws_history.astype({'AL Winner': str,\n",
        "                                'WinsAL': 'int32',\n",
        "                                'WinsNL': 'int32',\n",
        "                                'NL Winner': str})\n",
        "\n",
        "ws_history"
      ],
      "metadata": {
        "colab": {
          "base_uri": "https://localhost:8080/",
          "height": 454
        },
        "id": "KJD49NWxlMUQ",
        "outputId": "a7441abe-9bf2-4e54-f74c-1539eb0d0a1a"
      },
      "execution_count": null,
      "outputs": [
        {
          "output_type": "execute_result",
          "data": {
            "text/plain": [
              "                   AL Winner  WinsAL  WinsNL              NL Winner\n",
              "Year                                                               \n",
              "1905  Philadelphia Athletics       1       4        New York Giants\n",
              "1906       Chicago White Sox       4       2           Chicago Cubs\n",
              "1907          Detroit Tigers       0       4           Chicago Cubs\n",
              "1908          Detroit Tigers       1       4           Chicago Cubs\n",
              "1909          Detroit Tigers       3       4     Pittsburgh Pirates\n",
              "...                      ...     ...     ...                    ...\n",
              "2019          Houston Astros       3       4   Washington Nationals\n",
              "2020          Tampa Bay Rays       2       4    Los Angeles Dodgers\n",
              "2021          Houston Astros       2       4         Atlanta Braves\n",
              "2022          Houston Astros       4       2  Philadelphia Phillies\n",
              "2023           Texas Rangers       4       1   Arizona Diamondbacks\n",
              "\n",
              "[115 rows x 4 columns]"
            ],
            "text/html": [
              "\n",
              "  <div id=\"df-c9fa42e7-02e4-4cdc-9822-d1f08f9ee2f1\" class=\"colab-df-container\">\n",
              "    <div>\n",
              "<style scoped>\n",
              "    .dataframe tbody tr th:only-of-type {\n",
              "        vertical-align: middle;\n",
              "    }\n",
              "\n",
              "    .dataframe tbody tr th {\n",
              "        vertical-align: top;\n",
              "    }\n",
              "\n",
              "    .dataframe thead th {\n",
              "        text-align: right;\n",
              "    }\n",
              "</style>\n",
              "<table border=\"1\" class=\"dataframe\">\n",
              "  <thead>\n",
              "    <tr style=\"text-align: right;\">\n",
              "      <th></th>\n",
              "      <th>AL Winner</th>\n",
              "      <th>WinsAL</th>\n",
              "      <th>WinsNL</th>\n",
              "      <th>NL Winner</th>\n",
              "    </tr>\n",
              "    <tr>\n",
              "      <th>Year</th>\n",
              "      <th></th>\n",
              "      <th></th>\n",
              "      <th></th>\n",
              "      <th></th>\n",
              "    </tr>\n",
              "  </thead>\n",
              "  <tbody>\n",
              "    <tr>\n",
              "      <th>1905</th>\n",
              "      <td>Philadelphia Athletics</td>\n",
              "      <td>1</td>\n",
              "      <td>4</td>\n",
              "      <td>New York Giants</td>\n",
              "    </tr>\n",
              "    <tr>\n",
              "      <th>1906</th>\n",
              "      <td>Chicago White Sox</td>\n",
              "      <td>4</td>\n",
              "      <td>2</td>\n",
              "      <td>Chicago Cubs</td>\n",
              "    </tr>\n",
              "    <tr>\n",
              "      <th>1907</th>\n",
              "      <td>Detroit Tigers</td>\n",
              "      <td>0</td>\n",
              "      <td>4</td>\n",
              "      <td>Chicago Cubs</td>\n",
              "    </tr>\n",
              "    <tr>\n",
              "      <th>1908</th>\n",
              "      <td>Detroit Tigers</td>\n",
              "      <td>1</td>\n",
              "      <td>4</td>\n",
              "      <td>Chicago Cubs</td>\n",
              "    </tr>\n",
              "    <tr>\n",
              "      <th>1909</th>\n",
              "      <td>Detroit Tigers</td>\n",
              "      <td>3</td>\n",
              "      <td>4</td>\n",
              "      <td>Pittsburgh Pirates</td>\n",
              "    </tr>\n",
              "    <tr>\n",
              "      <th>...</th>\n",
              "      <td>...</td>\n",
              "      <td>...</td>\n",
              "      <td>...</td>\n",
              "      <td>...</td>\n",
              "    </tr>\n",
              "    <tr>\n",
              "      <th>2019</th>\n",
              "      <td>Houston Astros</td>\n",
              "      <td>3</td>\n",
              "      <td>4</td>\n",
              "      <td>Washington Nationals</td>\n",
              "    </tr>\n",
              "    <tr>\n",
              "      <th>2020</th>\n",
              "      <td>Tampa Bay Rays</td>\n",
              "      <td>2</td>\n",
              "      <td>4</td>\n",
              "      <td>Los Angeles Dodgers</td>\n",
              "    </tr>\n",
              "    <tr>\n",
              "      <th>2021</th>\n",
              "      <td>Houston Astros</td>\n",
              "      <td>2</td>\n",
              "      <td>4</td>\n",
              "      <td>Atlanta Braves</td>\n",
              "    </tr>\n",
              "    <tr>\n",
              "      <th>2022</th>\n",
              "      <td>Houston Astros</td>\n",
              "      <td>4</td>\n",
              "      <td>2</td>\n",
              "      <td>Philadelphia Phillies</td>\n",
              "    </tr>\n",
              "    <tr>\n",
              "      <th>2023</th>\n",
              "      <td>Texas Rangers</td>\n",
              "      <td>4</td>\n",
              "      <td>1</td>\n",
              "      <td>Arizona Diamondbacks</td>\n",
              "    </tr>\n",
              "  </tbody>\n",
              "</table>\n",
              "<p>115 rows × 4 columns</p>\n",
              "</div>\n",
              "    <div class=\"colab-df-buttons\">\n",
              "\n",
              "  <div class=\"colab-df-container\">\n",
              "    <button class=\"colab-df-convert\" onclick=\"convertToInteractive('df-c9fa42e7-02e4-4cdc-9822-d1f08f9ee2f1')\"\n",
              "            title=\"Convert this dataframe to an interactive table.\"\n",
              "            style=\"display:none;\">\n",
              "\n",
              "  <svg xmlns=\"http://www.w3.org/2000/svg\" height=\"24px\" viewBox=\"0 -960 960 960\">\n",
              "    <path d=\"M120-120v-720h720v720H120Zm60-500h600v-160H180v160Zm220 220h160v-160H400v160Zm0 220h160v-160H400v160ZM180-400h160v-160H180v160Zm440 0h160v-160H620v160ZM180-180h160v-160H180v160Zm440 0h160v-160H620v160Z\"/>\n",
              "  </svg>\n",
              "    </button>\n",
              "\n",
              "  <style>\n",
              "    .colab-df-container {\n",
              "      display:flex;\n",
              "      gap: 12px;\n",
              "    }\n",
              "\n",
              "    .colab-df-convert {\n",
              "      background-color: #E8F0FE;\n",
              "      border: none;\n",
              "      border-radius: 50%;\n",
              "      cursor: pointer;\n",
              "      display: none;\n",
              "      fill: #1967D2;\n",
              "      height: 32px;\n",
              "      padding: 0 0 0 0;\n",
              "      width: 32px;\n",
              "    }\n",
              "\n",
              "    .colab-df-convert:hover {\n",
              "      background-color: #E2EBFA;\n",
              "      box-shadow: 0px 1px 2px rgba(60, 64, 67, 0.3), 0px 1px 3px 1px rgba(60, 64, 67, 0.15);\n",
              "      fill: #174EA6;\n",
              "    }\n",
              "\n",
              "    .colab-df-buttons div {\n",
              "      margin-bottom: 4px;\n",
              "    }\n",
              "\n",
              "    [theme=dark] .colab-df-convert {\n",
              "      background-color: #3B4455;\n",
              "      fill: #D2E3FC;\n",
              "    }\n",
              "\n",
              "    [theme=dark] .colab-df-convert:hover {\n",
              "      background-color: #434B5C;\n",
              "      box-shadow: 0px 1px 3px 1px rgba(0, 0, 0, 0.15);\n",
              "      filter: drop-shadow(0px 1px 2px rgba(0, 0, 0, 0.3));\n",
              "      fill: #FFFFFF;\n",
              "    }\n",
              "  </style>\n",
              "\n",
              "    <script>\n",
              "      const buttonEl =\n",
              "        document.querySelector('#df-c9fa42e7-02e4-4cdc-9822-d1f08f9ee2f1 button.colab-df-convert');\n",
              "      buttonEl.style.display =\n",
              "        google.colab.kernel.accessAllowed ? 'block' : 'none';\n",
              "\n",
              "      async function convertToInteractive(key) {\n",
              "        const element = document.querySelector('#df-c9fa42e7-02e4-4cdc-9822-d1f08f9ee2f1');\n",
              "        const dataTable =\n",
              "          await google.colab.kernel.invokeFunction('convertToInteractive',\n",
              "                                                    [key], {});\n",
              "        if (!dataTable) return;\n",
              "\n",
              "        const docLinkHtml = 'Like what you see? Visit the ' +\n",
              "          '<a target=\"_blank\" href=https://colab.research.google.com/notebooks/data_table.ipynb>data table notebook</a>'\n",
              "          + ' to learn more about interactive tables.';\n",
              "        element.innerHTML = '';\n",
              "        dataTable['output_type'] = 'display_data';\n",
              "        await google.colab.output.renderOutput(dataTable, element);\n",
              "        const docLink = document.createElement('div');\n",
              "        docLink.innerHTML = docLinkHtml;\n",
              "        element.appendChild(docLink);\n",
              "      }\n",
              "    </script>\n",
              "  </div>\n",
              "\n",
              "\n",
              "<div id=\"df-60db3bd0-98fd-4e7f-aa10-a9d3f21c78a9\">\n",
              "  <button class=\"colab-df-quickchart\" onclick=\"quickchart('df-60db3bd0-98fd-4e7f-aa10-a9d3f21c78a9')\"\n",
              "            title=\"Suggest charts\"\n",
              "            style=\"display:none;\">\n",
              "\n",
              "<svg xmlns=\"http://www.w3.org/2000/svg\" height=\"24px\"viewBox=\"0 0 24 24\"\n",
              "     width=\"24px\">\n",
              "    <g>\n",
              "        <path d=\"M19 3H5c-1.1 0-2 .9-2 2v14c0 1.1.9 2 2 2h14c1.1 0 2-.9 2-2V5c0-1.1-.9-2-2-2zM9 17H7v-7h2v7zm4 0h-2V7h2v10zm4 0h-2v-4h2v4z\"/>\n",
              "    </g>\n",
              "</svg>\n",
              "  </button>\n",
              "\n",
              "<style>\n",
              "  .colab-df-quickchart {\n",
              "      --bg-color: #E8F0FE;\n",
              "      --fill-color: #1967D2;\n",
              "      --hover-bg-color: #E2EBFA;\n",
              "      --hover-fill-color: #174EA6;\n",
              "      --disabled-fill-color: #AAA;\n",
              "      --disabled-bg-color: #DDD;\n",
              "  }\n",
              "\n",
              "  [theme=dark] .colab-df-quickchart {\n",
              "      --bg-color: #3B4455;\n",
              "      --fill-color: #D2E3FC;\n",
              "      --hover-bg-color: #434B5C;\n",
              "      --hover-fill-color: #FFFFFF;\n",
              "      --disabled-bg-color: #3B4455;\n",
              "      --disabled-fill-color: #666;\n",
              "  }\n",
              "\n",
              "  .colab-df-quickchart {\n",
              "    background-color: var(--bg-color);\n",
              "    border: none;\n",
              "    border-radius: 50%;\n",
              "    cursor: pointer;\n",
              "    display: none;\n",
              "    fill: var(--fill-color);\n",
              "    height: 32px;\n",
              "    padding: 0;\n",
              "    width: 32px;\n",
              "  }\n",
              "\n",
              "  .colab-df-quickchart:hover {\n",
              "    background-color: var(--hover-bg-color);\n",
              "    box-shadow: 0 1px 2px rgba(60, 64, 67, 0.3), 0 1px 3px 1px rgba(60, 64, 67, 0.15);\n",
              "    fill: var(--button-hover-fill-color);\n",
              "  }\n",
              "\n",
              "  .colab-df-quickchart-complete:disabled,\n",
              "  .colab-df-quickchart-complete:disabled:hover {\n",
              "    background-color: var(--disabled-bg-color);\n",
              "    fill: var(--disabled-fill-color);\n",
              "    box-shadow: none;\n",
              "  }\n",
              "\n",
              "  .colab-df-spinner {\n",
              "    border: 2px solid var(--fill-color);\n",
              "    border-color: transparent;\n",
              "    border-bottom-color: var(--fill-color);\n",
              "    animation:\n",
              "      spin 1s steps(1) infinite;\n",
              "  }\n",
              "\n",
              "  @keyframes spin {\n",
              "    0% {\n",
              "      border-color: transparent;\n",
              "      border-bottom-color: var(--fill-color);\n",
              "      border-left-color: var(--fill-color);\n",
              "    }\n",
              "    20% {\n",
              "      border-color: transparent;\n",
              "      border-left-color: var(--fill-color);\n",
              "      border-top-color: var(--fill-color);\n",
              "    }\n",
              "    30% {\n",
              "      border-color: transparent;\n",
              "      border-left-color: var(--fill-color);\n",
              "      border-top-color: var(--fill-color);\n",
              "      border-right-color: var(--fill-color);\n",
              "    }\n",
              "    40% {\n",
              "      border-color: transparent;\n",
              "      border-right-color: var(--fill-color);\n",
              "      border-top-color: var(--fill-color);\n",
              "    }\n",
              "    60% {\n",
              "      border-color: transparent;\n",
              "      border-right-color: var(--fill-color);\n",
              "    }\n",
              "    80% {\n",
              "      border-color: transparent;\n",
              "      border-right-color: var(--fill-color);\n",
              "      border-bottom-color: var(--fill-color);\n",
              "    }\n",
              "    90% {\n",
              "      border-color: transparent;\n",
              "      border-bottom-color: var(--fill-color);\n",
              "    }\n",
              "  }\n",
              "</style>\n",
              "\n",
              "  <script>\n",
              "    async function quickchart(key) {\n",
              "      const quickchartButtonEl =\n",
              "        document.querySelector('#' + key + ' button');\n",
              "      quickchartButtonEl.disabled = true;  // To prevent multiple clicks.\n",
              "      quickchartButtonEl.classList.add('colab-df-spinner');\n",
              "      try {\n",
              "        const charts = await google.colab.kernel.invokeFunction(\n",
              "            'suggestCharts', [key], {});\n",
              "      } catch (error) {\n",
              "        console.error('Error during call to suggestCharts:', error);\n",
              "      }\n",
              "      quickchartButtonEl.classList.remove('colab-df-spinner');\n",
              "      quickchartButtonEl.classList.add('colab-df-quickchart-complete');\n",
              "    }\n",
              "    (() => {\n",
              "      let quickchartButtonEl =\n",
              "        document.querySelector('#df-60db3bd0-98fd-4e7f-aa10-a9d3f21c78a9 button');\n",
              "      quickchartButtonEl.style.display =\n",
              "        google.colab.kernel.accessAllowed ? 'block' : 'none';\n",
              "    })();\n",
              "  </script>\n",
              "</div>\n",
              "\n",
              "  <div id=\"id_9ad2f7d0-91fa-4f56-8fae-cd06d78d1c71\">\n",
              "    <style>\n",
              "      .colab-df-generate {\n",
              "        background-color: #E8F0FE;\n",
              "        border: none;\n",
              "        border-radius: 50%;\n",
              "        cursor: pointer;\n",
              "        display: none;\n",
              "        fill: #1967D2;\n",
              "        height: 32px;\n",
              "        padding: 0 0 0 0;\n",
              "        width: 32px;\n",
              "      }\n",
              "\n",
              "      .colab-df-generate:hover {\n",
              "        background-color: #E2EBFA;\n",
              "        box-shadow: 0px 1px 2px rgba(60, 64, 67, 0.3), 0px 1px 3px 1px rgba(60, 64, 67, 0.15);\n",
              "        fill: #174EA6;\n",
              "      }\n",
              "\n",
              "      [theme=dark] .colab-df-generate {\n",
              "        background-color: #3B4455;\n",
              "        fill: #D2E3FC;\n",
              "      }\n",
              "\n",
              "      [theme=dark] .colab-df-generate:hover {\n",
              "        background-color: #434B5C;\n",
              "        box-shadow: 0px 1px 3px 1px rgba(0, 0, 0, 0.15);\n",
              "        filter: drop-shadow(0px 1px 2px rgba(0, 0, 0, 0.3));\n",
              "        fill: #FFFFFF;\n",
              "      }\n",
              "    </style>\n",
              "    <button class=\"colab-df-generate\" onclick=\"generateWithVariable('ws_history')\"\n",
              "            title=\"Generate code using this dataframe.\"\n",
              "            style=\"display:none;\">\n",
              "\n",
              "  <svg xmlns=\"http://www.w3.org/2000/svg\" height=\"24px\"viewBox=\"0 0 24 24\"\n",
              "       width=\"24px\">\n",
              "    <path d=\"M7,19H8.4L18.45,9,17,7.55,7,17.6ZM5,21V16.75L18.45,3.32a2,2,0,0,1,2.83,0l1.4,1.43a1.91,1.91,0,0,1,.58,1.4,1.91,1.91,0,0,1-.58,1.4L9.25,21ZM18.45,9,17,7.55Zm-12,3A5.31,5.31,0,0,0,4.9,8.1,5.31,5.31,0,0,0,1,6.5,5.31,5.31,0,0,0,4.9,4.9,5.31,5.31,0,0,0,6.5,1,5.31,5.31,0,0,0,8.1,4.9,5.31,5.31,0,0,0,12,6.5,5.46,5.46,0,0,0,6.5,12Z\"/>\n",
              "  </svg>\n",
              "    </button>\n",
              "    <script>\n",
              "      (() => {\n",
              "      const buttonEl =\n",
              "        document.querySelector('#id_9ad2f7d0-91fa-4f56-8fae-cd06d78d1c71 button.colab-df-generate');\n",
              "      buttonEl.style.display =\n",
              "        google.colab.kernel.accessAllowed ? 'block' : 'none';\n",
              "\n",
              "      buttonEl.onclick = () => {\n",
              "        google.colab.notebook.generateWithVariable('ws_history');\n",
              "      }\n",
              "      })();\n",
              "    </script>\n",
              "  </div>\n",
              "\n",
              "    </div>\n",
              "  </div>\n"
            ],
            "application/vnd.google.colaboratory.intrinsic+json": {
              "type": "dataframe",
              "variable_name": "ws_history",
              "summary": "{\n  \"name\": \"ws_history\",\n  \"rows\": 115,\n  \"fields\": [\n    {\n      \"column\": \"Year\",\n      \"properties\": {\n        \"dtype\": \"number\",\n        \"std\": 34,\n        \"min\": 1905,\n        \"max\": 2023,\n        \"num_unique_values\": 115,\n        \"samples\": [\n          1989,\n          1909,\n          1948\n        ],\n        \"semantic_type\": \"\",\n        \"description\": \"\"\n      }\n    },\n    {\n      \"column\": \"AL Winner\",\n      \"properties\": {\n        \"dtype\": \"category\",\n        \"num_unique_values\": 18,\n        \"samples\": [\n          \"Philadelphia Athletics\",\n          \"Chicago White Sox\",\n          \"Minnesota Twins\"\n        ],\n        \"semantic_type\": \"\",\n        \"description\": \"\"\n      }\n    },\n    {\n      \"column\": \"WinsAL\",\n      \"properties\": {\n        \"dtype\": \"int32\",\n        \"num_unique_values\": 5,\n        \"samples\": [\n          4,\n          2,\n          0\n        ],\n        \"semantic_type\": \"\",\n        \"description\": \"\"\n      }\n    },\n    {\n      \"column\": \"WinsNL\",\n      \"properties\": {\n        \"dtype\": \"int32\",\n        \"num_unique_values\": 5,\n        \"samples\": [\n          2,\n          0,\n          1\n        ],\n        \"semantic_type\": \"\",\n        \"description\": \"\"\n      }\n    },\n    {\n      \"column\": \"NL Winner\",\n      \"properties\": {\n        \"dtype\": \"category\",\n        \"num_unique_values\": 20,\n        \"samples\": [\n          \"New York Giants\",\n          \"Houston Astros\",\n          \"Florida Marlins\"\n        ],\n        \"semantic_type\": \"\",\n        \"description\": \"\"\n      }\n    }\n  ]\n}"
            }
          },
          "metadata": {},
          "execution_count": 36
        }
      ]
    },
    {
      "cell_type": "code",
      "source": [
        "# DATA\n",
        "\n",
        "#limit data to 1976\n",
        "ws_mosteller = ws_history.loc[1977:]\n",
        "\n",
        "#calculate integer outcomes from series results\n",
        "loser_wins = (ws_mosteller['WinsAL'] + ws_mosteller['WinsNL'] - 4).abs()\n",
        "\n",
        "loser_wins.head()\n",
        "\n",
        "### Check we have the same data\n",
        "\n",
        "n0, n1, n2, n3 = np.bincount(loser_wins.values)\n",
        "\n",
        "print('Winner\\tLoser\\tFrequency')\n",
        "print('-------------------------')\n",
        "print(f'4\\t0\\t{n0}')\n",
        "print(f'4\\t1\\t{n1}')\n",
        "print(f'4\\t2\\t{n2}')\n",
        "print(f'4\\t3\\t{n3}')\n",
        "print('-------------------------')\n",
        "print(f'Total:\\t\\t{n0+n1+n2+n3}')"
      ],
      "metadata": {
        "colab": {
          "base_uri": "https://localhost:8080/"
        },
        "id": "RFcQQi-QlYDD",
        "outputId": "b3e90c6f-f16d-4afd-d1c9-42eb4b405a25"
      },
      "execution_count": null,
      "outputs": [
        {
          "output_type": "stream",
          "name": "stdout",
          "text": [
            "Winner\tLoser\tFrequency\n",
            "-------------------------\n",
            "4\t0\t8\n",
            "4\t1\t10\n",
            "4\t2\t14\n",
            "4\t3\t14\n",
            "-------------------------\n",
            "Total:\t\t46\n"
          ]
        }
      ]
    },
    {
      "cell_type": "code",
      "source": [
        "#Negative log-likelihood from outcome probabilities\n",
        "def NLL_Mosteller(p, outcomes):\n",
        "\n",
        "    n0, n1, n2, n3 = np.bincount(outcomes)\n",
        "\n",
        "    q = 1-p\n",
        "\n",
        "    P0 = p**4 + q**4\n",
        "    P1 = 4*(p**4)*q + 4*p*(q**4)\n",
        "    P2 = 10*(p**4)*(q**2) + 10*(p**2)*(q**4)\n",
        "    P3 = 20*(p**4)*(q**3) + 20*(p**3)*(q**4)\n",
        "\n",
        "    log_likelihood = n0*np.log(P0) + n1*np.log(P1) + n2*np.log(P2) + n3*np.log(P3)\n",
        "\n",
        "    return -log_likelihood"
      ],
      "metadata": {
        "id": "s-NS2MR5ld8Z"
      },
      "execution_count": null,
      "outputs": []
    },
    {
      "cell_type": "code",
      "source": [
        "# initial (random) guess for p\n",
        "p_init = .8\n",
        "\n",
        "#check initial p makes sense\n",
        "assert p_init > .5 and p_init < 1.\n",
        "\n",
        "\n",
        "# minimize with scipy routines\n",
        "# bounds is used to constrain optimizer to stay in regions where taking log(p) makes sense\n",
        "epsilon = 1e-5\n",
        "opt_results = scipy.optimize.minimize(lambda p: NLL_Mosteller(p, loser_wins.values),\n",
        "                                      p_init,\n",
        "                                      bounds=[(.5 + epsilon, 1. - epsilon)])\n",
        "\n",
        "p_numeric = opt_results.x.squeeze()\n",
        "\n",
        "print(f'Numeric min. p = {p_numeric:.4f}')\n",
        "\n",
        "print(f'MLE reported by Mosteller\\t p = 0.6551\\n')\n",
        "\n",
        "print(f'Our numeric estimate\\t\\t p = {p_numeric:.4f}')"
      ],
      "metadata": {
        "colab": {
          "base_uri": "https://localhost:8080/"
        },
        "id": "bbfMZSsilgnv",
        "outputId": "fc5fb575-2444-4b95-960a-9486001cb67f"
      },
      "execution_count": null,
      "outputs": [
        {
          "output_type": "stream",
          "name": "stdout",
          "text": [
            "Numeric min. p = 0.5854\n",
            "MLE reported by Mosteller\t p = 0.6551\n",
            "\n",
            "Our numeric estimate\t\t p = 0.5854\n"
          ]
        }
      ]
    },
    {
      "cell_type": "markdown",
      "source": [
        "**We found that the numeric estimate does not agree with MLE reported by Mosteller ($p_{ne}=0.5854 \\neq p_{Mos}=0.6551)$. The reason for it could be that there is no constant $p$. For instance, since there is no free agency,  better players would naturally be attracted to multiple good teams, so some of the teams might have more comparable lineups. For instance, if top 6 players from the top-10 players go to team A, and top 4 go to team B, the match outcome between A and B will not be as easily predictable due to a relative similarity of the rosters' strength, even though the team A has a 'stronger' lineup. That being said, the better model would account for the free flow between teams, a relative strength of the team, and the intensity of the competition in a game.**"
      ],
      "metadata": {
        "id": "NTQaBwrtmFQc"
      }
    },
    {
      "cell_type": "markdown",
      "source": [
        "*3. In the paper, Mosteller also discussed a model in which p changed from year to year. Modify the code from class to see if this makes much of a difference. A simple way to do this is to add a small random number to p so that it changes from game to game.*"
      ],
      "metadata": {
        "id": "8M6tMZ6sorIf"
      }
    },
    {
      "cell_type": "code",
      "source": [
        "import numpy as np\n",
        "import matplotlib.pyplot as plt\n",
        "\n",
        "# Parameters\n",
        "total_series = 4400\n",
        "probability = 0.65\n",
        "\n",
        "# Generate random data\n",
        "random_data = np.random.uniform(size=(total_series, 2))\n",
        "\n",
        "# Initialize an array to store results\n",
        "results = np.empty(shape=(0,), dtype=int)\n",
        "\n",
        "# Simulate series with varying probability\n",
        "for x, y in random_data:\n",
        "    adjusted_prob = probability + np.random.uniform() * 0.03 # I adjusted the probability by multiplying a random number by 0.03 which seemed to be a sufficiently small change to me and adding it to the given p=0.65\n",
        "    wins = (x < adjusted_prob).astype(int) + (y < adjusted_prob).astype(int)\n",
        "    results = np.append(results, wins)\n",
        "\n",
        "# Plotting the results\n",
        "plt.hist(results, bins=np.arange(5), alpha=0.5, label='Series with Varying Probability')\n",
        "plt.xlabel('Number of Wins by Losing Team')\n",
        "plt.ylabel('Frequency')\n",
        "plt.title('Wins Distribution with Varying Probability')\n",
        "plt.xticks(np.arange(5))\n",
        "plt.show()\n",
        "\n",
        "average_wins = np.mean(results)\n",
        "print(\"Average number of wins by the losing team with a changing p:\", average_wins)\n",
        "\n",
        "# Compare with the result from part b for the series of 4400 games\n",
        "print(\"Average number of wins by the losing team with a stable p:\", average_4400)"
      ],
      "metadata": {
        "colab": {
          "base_uri": "https://localhost:8080/",
          "height": 524
        },
        "id": "0s3LRKXypd3U",
        "outputId": "35cb651b-664e-4ccc-dad9-4ee0c25a249c"
      },
      "execution_count": null,
      "outputs": [
        {
          "output_type": "display_data",
          "data": {
            "text/plain": [
              "<Figure size 640x480 with 1 Axes>"
            ],
            "image/png": "[encoded data removed]"
          },
          "metadata": {}
        },
        {
          "output_type": "stream",
          "name": "stdout",
          "text": [
            "Average number of wins by the losing team with a changing p: 1.3272727272727274\n",
            "Average number of wins by the losing team with a stable p: 2.0379545454545456\n"
          ]
        }
      ]
    },
    {
      "cell_type": "markdown",
      "source": [
        "**By changing the p value from game to game we see that there is a huge difference in the number of the wins by a losing team compared to out previous simulation ($wins_{p_{const}}=2.038, wins_{p_{changing}}=1.328)$. This is a very drastic change which shows that adjusting for p value makes a big difference in calculating probabilities.$**"
      ],
      "metadata": {
        "id": "hE9U9cp8qdfr"
      }
    },
    {
      "cell_type": "markdown",
      "source": [
        "*4. Identify some reason that you are angry at Mosteller’s Model. Think about how you would change the model to assuage your anger.*\n",
        "\n",
        "**One of the flaws of the Mostelle's model I am absolutely furious about (!) is the lack of adjustment of the p values from game to game based on the roster's physical and mental state. For instance, we saw above that adjusting the p value from game to game makes a big difference in the game outcome prediction. Then, it would be great if we could incorporate a mindful change of the p value from one game to the other while taking into acount such factors as players' injuries, the number of the payed games this week (to account for physical and mental exhaustion), as well as whether the team plays at home or away.**"
      ],
      "metadata": {
        "id": "Y1GwODaqrRXe"
      }
    },
    {
      "cell_type": "markdown",
      "source": [
        "##**Problem 3: Adding more features to compute p (10 points)**\n",
        " *In Problem 1, you estimated the probability p of the better team winning the series. Now,\n",
        "let’s explore how additional features in the data could enhance the accuracy of p pre-\n",
        "diction. In the lecture 2 notebook, we introduced a dataset from Major League Baseball\n",
        "that includes a set of features about teams that go beyond games won and lost, including\n",
        "strikeouts, double plays and so forth. The goal of this problem is to create a simple model\n",
        "that predicts the probability a team wins the world series.*"
      ],
      "metadata": {
        "id": "mXDMHInkusLv"
      }
    },
    {
      "cell_type": "markdown",
      "source": [
        " *1. Explain what the code in the notebook does. Include in your explanation the following concepts:*\n",
        "\n",
        "*(a) What does the dropna command do in the line transforming the features?*\n",
        "\n",
        "**Dropna command deletes years where the WS were the best-of-nine, by deleting the rows that have NA values. This is important for calculating the mean.**\n",
        "\n",
        "\n",
        "*(b) What is the point of the dataset split into train and text?*\n",
        "\n",
        "**We split the dataset on the train and test portions because we will need to use the train portion to train the model and the test portion (the data that the model has not seen yet) to check the performance of the model. When we train the model, we input the train data and let the model adjust the  parameters to maximize the likelihood of the observed outcomes given the input features. The test data is then used to assess if the model has properly adjusted all the parameters and is able to predict outcomes when given the new dataset.**\n",
        "\n",
        "*(c) What is the logistic regression fit predicting?*\n",
        "\n",
        "**The logistic regression fit is a test to see how well the model performed when given a test set. Here, it is used to predict the winner of the WS given the input and parameters.**\n",
        "\n",
        "*(d) Explain accuracy, confusion matrix, precision and recall?*\n",
        "\n",
        "**Accuracy:** the measure of how well the model performed by calculating the proportion of true predictions (true positives and true negatives) from all the predictions made.\n",
        "\n",
        "**Confusion matrix:** provides a matrix that shows the accuracy of the model's prediction as true and false positives and true and false negatives.\n",
        "\n",
        "**Precision:** another measure to assess the accuracy of the model. Calculated as $\\frac{TP}{TP+FP}$, it provides the accuracy of what portion of predicted true outcomes was actually a true outcome.\n",
        "\n",
        "**Recall:** another measure to assess the accuracy of the model. Calculated as $\\frac{TP}{TP+FN}$, it provides the accuracy of identifying actual positives.\n",
        "\n",
        "\n"
      ],
      "metadata": {
        "id": "gowPIe16VOzB"
      }
    },
    {
      "cell_type": "markdown",
      "source": [
        "*2. Create and explain the feature importance plot, identifying the features that influence the probability of the better team winning. Does this make sense?*"
      ],
      "metadata": {
        "id": "8G3yKO2zZZED"
      }
    },
    {
      "cell_type": "code",
      "source": [
        "## Borrowing the code from Lecture 2 notebook\n",
        "\n",
        "# imports\n",
        "import pandas as pd\n",
        "from sklearn.linear_model import LogisticRegression\n",
        "from sklearn.metrics import accuracy_score, classification_report, confusion_matrix\n",
        "from sklearn.model_selection import train_test_split\n",
        "from sklearn.preprocessing import StandardScaler\n",
        "\n",
        "# read data into pandas dataframe\n",
        "with open(DATA_PATH+'L02-mlb_teams.csv', 'r') as fh:\n",
        "    feature_data = pd.read_csv(fh)\n",
        "\n",
        "print('number of rows:', len(feature_data))\n",
        "feature_data.head()"
      ],
      "metadata": {
        "colab": {
          "base_uri": "https://localhost:8080/",
          "height": 411
        },
        "id": "N8cxDPY5blzN",
        "outputId": "a2f429bd-d4cd-4d14-e152-146ff00ead35"
      },
      "execution_count": null,
      "outputs": [
        {
          "output_type": "stream",
          "name": "stdout",
          "text": [
            "number of rows: 2784\n"
          ]
        },
        {
          "output_type": "execute_result",
          "data": {
            "text/plain": [
              "   year league_id division_id  rank  games_played  home_games  wins  losses  \\\n",
              "0  1876        NL         NaN     4            70         NaN    39      31   \n",
              "1  1876        NL         NaN     1            66         NaN    52      14   \n",
              "2  1876        NL         NaN     8            65         NaN     9      56   \n",
              "3  1876        NL         NaN     2            69         NaN    47      21   \n",
              "4  1876        NL         NaN     5            69         NaN    30      36   \n",
              "\n",
              "  division_winner wild_card_winner  ... hits_allowed homeruns_allowed  \\\n",
              "0             NaN              NaN  ...          732                7   \n",
              "1             NaN              NaN  ...          608                6   \n",
              "2             NaN              NaN  ...          850                9   \n",
              "3             NaN              NaN  ...          570                2   \n",
              "4             NaN              NaN  ...          605                3   \n",
              "\n",
              "   walks_allowed  strikeouts_by_pitchers  errors  double_plays  \\\n",
              "0            104                      77     442            42   \n",
              "1             29                      51     282            33   \n",
              "2             34                      60     469            45   \n",
              "3             27                     114     337            27   \n",
              "4             38                     125     397            44   \n",
              "\n",
              "   fielding_percentage                team_name                   ball_park  \\\n",
              "0                0.860          Boston Red Caps         South End Grounds I   \n",
              "1                0.899  Chicago White Stockings         23rd Street Grounds   \n",
              "2                0.841          Cincinnati Reds              Avenue Grounds   \n",
              "3                0.888      Hartford Dark Blues  Hartford Ball Club Grounds   \n",
              "4                0.875         Louisville Grays    Louisville Baseball Park   \n",
              "\n",
              "   home_attendance  \n",
              "0              NaN  \n",
              "1              NaN  \n",
              "2              NaN  \n",
              "3              NaN  \n",
              "4              NaN  \n",
              "\n",
              "[5 rows x 41 columns]"
            ],
            "text/html": [
              "\n",
              "  <div id=\"df-2e7baf45-50a8-4e75-b670-2e414ca9b04c\" class=\"colab-df-container\">\n",
              "    <div>\n",
              "<style scoped>\n",
              "    .dataframe tbody tr th:only-of-type {\n",
              "        vertical-align: middle;\n",
              "    }\n",
              "\n",
              "    .dataframe tbody tr th {\n",
              "        vertical-align: top;\n",
              "    }\n",
              "\n",
              "    .dataframe thead th {\n",
              "        text-align: right;\n",
              "    }\n",
              "</style>\n",
              "<table border=\"1\" class=\"dataframe\">\n",
              "  <thead>\n",
              "    <tr style=\"text-align: right;\">\n",
              "      <th></th>\n",
              "      <th>year</th>\n",
              "      <th>league_id</th>\n",
              "      <th>division_id</th>\n",
              "      <th>rank</th>\n",
              "      <th>games_played</th>\n",
              "      <th>home_games</th>\n",
              "      <th>wins</th>\n",
              "      <th>losses</th>\n",
              "      <th>division_winner</th>\n",
              "      <th>wild_card_winner</th>\n",
              "      <th>...</th>\n",
              "      <th>hits_allowed</th>\n",
              "      <th>homeruns_allowed</th>\n",
              "      <th>walks_allowed</th>\n",
              "      <th>strikeouts_by_pitchers</th>\n",
              "      <th>errors</th>\n",
              "      <th>double_plays</th>\n",
              "      <th>fielding_percentage</th>\n",
              "      <th>team_name</th>\n",
              "      <th>ball_park</th>\n",
              "      <th>home_attendance</th>\n",
              "    </tr>\n",
              "  </thead>\n",
              "  <tbody>\n",
              "    <tr>\n",
              "      <th>0</th>\n",
              "      <td>1876</td>\n",
              "      <td>NL</td>\n",
              "      <td>NaN</td>\n",
              "      <td>4</td>\n",
              "      <td>70</td>\n",
              "      <td>NaN</td>\n",
              "      <td>39</td>\n",
              "      <td>31</td>\n",
              "      <td>NaN</td>\n",
              "      <td>NaN</td>\n",
              "      <td>...</td>\n",
              "      <td>732</td>\n",
              "      <td>7</td>\n",
              "      <td>104</td>\n",
              "      <td>77</td>\n",
              "      <td>442</td>\n",
              "      <td>42</td>\n",
              "      <td>0.860</td>\n",
              "      <td>Boston Red Caps</td>\n",
              "      <td>South End Grounds I</td>\n",
              "      <td>NaN</td>\n",
              "    </tr>\n",
              "    <tr>\n",
              "      <th>1</th>\n",
              "      <td>1876</td>\n",
              "      <td>NL</td>\n",
              "      <td>NaN</td>\n",
              "      <td>1</td>\n",
              "      <td>66</td>\n",
              "      <td>NaN</td>\n",
              "      <td>52</td>\n",
              "      <td>14</td>\n",
              "      <td>NaN</td>\n",
              "      <td>NaN</td>\n",
              "      <td>...</td>\n",
              "      <td>608</td>\n",
              "      <td>6</td>\n",
              "      <td>29</td>\n",
              "      <td>51</td>\n",
              "      <td>282</td>\n",
              "      <td>33</td>\n",
              "      <td>0.899</td>\n",
              "      <td>Chicago White Stockings</td>\n",
              "      <td>23rd Street Grounds</td>\n",
              "      <td>NaN</td>\n",
              "    </tr>\n",
              "    <tr>\n",
              "      <th>2</th>\n",
              "      <td>1876</td>\n",
              "      <td>NL</td>\n",
              "      <td>NaN</td>\n",
              "      <td>8</td>\n",
              "      <td>65</td>\n",
              "      <td>NaN</td>\n",
              "      <td>9</td>\n",
              "      <td>56</td>\n",
              "      <td>NaN</td>\n",
              "      <td>NaN</td>\n",
              "      <td>...</td>\n",
              "      <td>850</td>\n",
              "      <td>9</td>\n",
              "      <td>34</td>\n",
              "      <td>60</td>\n",
              "      <td>469</td>\n",
              "      <td>45</td>\n",
              "      <td>0.841</td>\n",
              "      <td>Cincinnati Reds</td>\n",
              "      <td>Avenue Grounds</td>\n",
              "      <td>NaN</td>\n",
              "    </tr>\n",
              "    <tr>\n",
              "      <th>3</th>\n",
              "      <td>1876</td>\n",
              "      <td>NL</td>\n",
              "      <td>NaN</td>\n",
              "      <td>2</td>\n",
              "      <td>69</td>\n",
              "      <td>NaN</td>\n",
              "      <td>47</td>\n",
              "      <td>21</td>\n",
              "      <td>NaN</td>\n",
              "      <td>NaN</td>\n",
              "      <td>...</td>\n",
              "      <td>570</td>\n",
              "      <td>2</td>\n",
              "      <td>27</td>\n",
              "      <td>114</td>\n",
              "      <td>337</td>\n",
              "      <td>27</td>\n",
              "      <td>0.888</td>\n",
              "      <td>Hartford Dark Blues</td>\n",
              "      <td>Hartford Ball Club Grounds</td>\n",
              "      <td>NaN</td>\n",
              "    </tr>\n",
              "    <tr>\n",
              "      <th>4</th>\n",
              "      <td>1876</td>\n",
              "      <td>NL</td>\n",
              "      <td>NaN</td>\n",
              "      <td>5</td>\n",
              "      <td>69</td>\n",
              "      <td>NaN</td>\n",
              "      <td>30</td>\n",
              "      <td>36</td>\n",
              "      <td>NaN</td>\n",
              "      <td>NaN</td>\n",
              "      <td>...</td>\n",
              "      <td>605</td>\n",
              "      <td>3</td>\n",
              "      <td>38</td>\n",
              "      <td>125</td>\n",
              "      <td>397</td>\n",
              "      <td>44</td>\n",
              "      <td>0.875</td>\n",
              "      <td>Louisville Grays</td>\n",
              "      <td>Louisville Baseball Park</td>\n",
              "      <td>NaN</td>\n",
              "    </tr>\n",
              "  </tbody>\n",
              "</table>\n",
              "<p>5 rows × 41 columns</p>\n",
              "</div>\n",
              "    <div class=\"colab-df-buttons\">\n",
              "\n",
              "  <div class=\"colab-df-container\">\n",
              "    <button class=\"colab-df-convert\" onclick=\"convertToInteractive('df-2e7baf45-50a8-4e75-b670-2e414ca9b04c')\"\n",
              "            title=\"Convert this dataframe to an interactive table.\"\n",
              "            style=\"display:none;\">\n",
              "\n",
              "  <svg xmlns=\"http://www.w3.org/2000/svg\" height=\"24px\" viewBox=\"0 -960 960 960\">\n",
              "    <path d=\"M120-120v-720h720v720H120Zm60-500h600v-160H180v160Zm220 220h160v-160H400v160Zm0 220h160v-160H400v160ZM180-400h160v-160H180v160Zm440 0h160v-160H620v160ZM180-180h160v-160H180v160Zm440 0h160v-160H620v160Z\"/>\n",
              "  </svg>\n",
              "    </button>\n",
              "\n",
              "  <style>\n",
              "    .colab-df-container {\n",
              "      display:flex;\n",
              "      gap: 12px;\n",
              "    }\n",
              "\n",
              "    .colab-df-convert {\n",
              "      background-color: #E8F0FE;\n",
              "      border: none;\n",
              "      border-radius: 50%;\n",
              "      cursor: pointer;\n",
              "      display: none;\n",
              "      fill: #1967D2;\n",
              "      height: 32px;\n",
              "      padding: 0 0 0 0;\n",
              "      width: 32px;\n",
              "    }\n",
              "\n",
              "    .colab-df-convert:hover {\n",
              "      background-color: #E2EBFA;\n",
              "      box-shadow: 0px 1px 2px rgba(60, 64, 67, 0.3), 0px 1px 3px 1px rgba(60, 64, 67, 0.15);\n",
              "      fill: #174EA6;\n",
              "    }\n",
              "\n",
              "    .colab-df-buttons div {\n",
              "      margin-bottom: 4px;\n",
              "    }\n",
              "\n",
              "    [theme=dark] .colab-df-convert {\n",
              "      background-color: #3B4455;\n",
              "      fill: #D2E3FC;\n",
              "    }\n",
              "\n",
              "    [theme=dark] .colab-df-convert:hover {\n",
              "      background-color: #434B5C;\n",
              "      box-shadow: 0px 1px 3px 1px rgba(0, 0, 0, 0.15);\n",
              "      filter: drop-shadow(0px 1px 2px rgba(0, 0, 0, 0.3));\n",
              "      fill: #FFFFFF;\n",
              "    }\n",
              "  </style>\n",
              "\n",
              "    <script>\n",
              "      const buttonEl =\n",
              "        document.querySelector('#df-2e7baf45-50a8-4e75-b670-2e414ca9b04c button.colab-df-convert');\n",
              "      buttonEl.style.display =\n",
              "        google.colab.kernel.accessAllowed ? 'block' : 'none';\n",
              "\n",
              "      async function convertToInteractive(key) {\n",
              "        const element = document.querySelector('#df-2e7baf45-50a8-4e75-b670-2e414ca9b04c');\n",
              "        const dataTable =\n",
              "          await google.colab.kernel.invokeFunction('convertToInteractive',\n",
              "                                                    [key], {});\n",
              "        if (!dataTable) return;\n",
              "\n",
              "        const docLinkHtml = 'Like what you see? Visit the ' +\n",
              "          '<a target=\"_blank\" href=https://colab.research.google.com/notebooks/data_table.ipynb>data table notebook</a>'\n",
              "          + ' to learn more about interactive tables.';\n",
              "        element.innerHTML = '';\n",
              "        dataTable['output_type'] = 'display_data';\n",
              "        await google.colab.output.renderOutput(dataTable, element);\n",
              "        const docLink = document.createElement('div');\n",
              "        docLink.innerHTML = docLinkHtml;\n",
              "        element.appendChild(docLink);\n",
              "      }\n",
              "    </script>\n",
              "  </div>\n",
              "\n",
              "\n",
              "<div id=\"df-579fd3f7-254b-433f-bdc0-90f67b874bba\">\n",
              "  <button class=\"colab-df-quickchart\" onclick=\"quickchart('df-579fd3f7-254b-433f-bdc0-90f67b874bba')\"\n",
              "            title=\"Suggest charts\"\n",
              "            style=\"display:none;\">\n",
              "\n",
              "<svg xmlns=\"http://www.w3.org/2000/svg\" height=\"24px\"viewBox=\"0 0 24 24\"\n",
              "     width=\"24px\">\n",
              "    <g>\n",
              "        <path d=\"M19 3H5c-1.1 0-2 .9-2 2v14c0 1.1.9 2 2 2h14c1.1 0 2-.9 2-2V5c0-1.1-.9-2-2-2zM9 17H7v-7h2v7zm4 0h-2V7h2v10zm4 0h-2v-4h2v4z\"/>\n",
              "    </g>\n",
              "</svg>\n",
              "  </button>\n",
              "\n",
              "<style>\n",
              "  .colab-df-quickchart {\n",
              "      --bg-color: #E8F0FE;\n",
              "      --fill-color: #1967D2;\n",
              "      --hover-bg-color: #E2EBFA;\n",
              "      --hover-fill-color: #174EA6;\n",
              "      --disabled-fill-color: #AAA;\n",
              "      --disabled-bg-color: #DDD;\n",
              "  }\n",
              "\n",
              "  [theme=dark] .colab-df-quickchart {\n",
              "      --bg-color: #3B4455;\n",
              "      --fill-color: #D2E3FC;\n",
              "      --hover-bg-color: #434B5C;\n",
              "      --hover-fill-color: #FFFFFF;\n",
              "      --disabled-bg-color: #3B4455;\n",
              "      --disabled-fill-color: #666;\n",
              "  }\n",
              "\n",
              "  .colab-df-quickchart {\n",
              "    background-color: var(--bg-color);\n",
              "    border: none;\n",
              "    border-radius: 50%;\n",
              "    cursor: pointer;\n",
              "    display: none;\n",
              "    fill: var(--fill-color);\n",
              "    height: 32px;\n",
              "    padding: 0;\n",
              "    width: 32px;\n",
              "  }\n",
              "\n",
              "  .colab-df-quickchart:hover {\n",
              "    background-color: var(--hover-bg-color);\n",
              "    box-shadow: 0 1px 2px rgba(60, 64, 67, 0.3), 0 1px 3px 1px rgba(60, 64, 67, 0.15);\n",
              "    fill: var(--button-hover-fill-color);\n",
              "  }\n",
              "\n",
              "  .colab-df-quickchart-complete:disabled,\n",
              "  .colab-df-quickchart-complete:disabled:hover {\n",
              "    background-color: var(--disabled-bg-color);\n",
              "    fill: var(--disabled-fill-color);\n",
              "    box-shadow: none;\n",
              "  }\n",
              "\n",
              "  .colab-df-spinner {\n",
              "    border: 2px solid var(--fill-color);\n",
              "    border-color: transparent;\n",
              "    border-bottom-color: var(--fill-color);\n",
              "    animation:\n",
              "      spin 1s steps(1) infinite;\n",
              "  }\n",
              "\n",
              "  @keyframes spin {\n",
              "    0% {\n",
              "      border-color: transparent;\n",
              "      border-bottom-color: var(--fill-color);\n",
              "      border-left-color: var(--fill-color);\n",
              "    }\n",
              "    20% {\n",
              "      border-color: transparent;\n",
              "      border-left-color: var(--fill-color);\n",
              "      border-top-color: var(--fill-color);\n",
              "    }\n",
              "    30% {\n",
              "      border-color: transparent;\n",
              "      border-left-color: var(--fill-color);\n",
              "      border-top-color: var(--fill-color);\n",
              "      border-right-color: var(--fill-color);\n",
              "    }\n",
              "    40% {\n",
              "      border-color: transparent;\n",
              "      border-right-color: var(--fill-color);\n",
              "      border-top-color: var(--fill-color);\n",
              "    }\n",
              "    60% {\n",
              "      border-color: transparent;\n",
              "      border-right-color: var(--fill-color);\n",
              "    }\n",
              "    80% {\n",
              "      border-color: transparent;\n",
              "      border-right-color: var(--fill-color);\n",
              "      border-bottom-color: var(--fill-color);\n",
              "    }\n",
              "    90% {\n",
              "      border-color: transparent;\n",
              "      border-bottom-color: var(--fill-color);\n",
              "    }\n",
              "  }\n",
              "</style>\n",
              "\n",
              "  <script>\n",
              "    async function quickchart(key) {\n",
              "      const quickchartButtonEl =\n",
              "        document.querySelector('#' + key + ' button');\n",
              "      quickchartButtonEl.disabled = true;  // To prevent multiple clicks.\n",
              "      quickchartButtonEl.classList.add('colab-df-spinner');\n",
              "      try {\n",
              "        const charts = await google.colab.kernel.invokeFunction(\n",
              "            'suggestCharts', [key], {});\n",
              "      } catch (error) {\n",
              "        console.error('Error during call to suggestCharts:', error);\n",
              "      }\n",
              "      quickchartButtonEl.classList.remove('colab-df-spinner');\n",
              "      quickchartButtonEl.classList.add('colab-df-quickchart-complete');\n",
              "    }\n",
              "    (() => {\n",
              "      let quickchartButtonEl =\n",
              "        document.querySelector('#df-579fd3f7-254b-433f-bdc0-90f67b874bba button');\n",
              "      quickchartButtonEl.style.display =\n",
              "        google.colab.kernel.accessAllowed ? 'block' : 'none';\n",
              "    })();\n",
              "  </script>\n",
              "</div>\n",
              "\n",
              "    </div>\n",
              "  </div>\n"
            ],
            "application/vnd.google.colaboratory.intrinsic+json": {
              "type": "dataframe",
              "variable_name": "feature_data"
            }
          },
          "metadata": {},
          "execution_count": 3
        }
      ]
    },
    {
      "cell_type": "code",
      "source": [
        "# Define the dependent variable and features\n",
        "target_var = 'world_series_winner'\n",
        "features = ['runs_scored',\n",
        "            'at_bats',\n",
        "            'hits',\n",
        "            'doubles',\n",
        "            'triples',\n",
        "            'homeruns',\n",
        "            'walks',\n",
        "            'strikeouts_by_batters',\n",
        "            'stolen_bases',\n",
        "            'caught_stealing',\n",
        "            'batters_hit_by_pitch',\n",
        "            'sacrifice_flies',\n",
        "            'opponents_runs_scored',\n",
        "            'earned_runs_allowed',\n",
        "            'earned_run_average',\n",
        "            'complete_games',\n",
        "            'shutouts',\n",
        "            'saves',\n",
        "            'outs_pitches',\n",
        "            'hits_allowed',\n",
        "            'homeruns_allowed',\n",
        "            'walks_allowed',\n",
        "            'strikeouts_by_pitchers',\n",
        "            'errors']\n",
        "\n",
        "# convert target col to binary and drop NaNs\n",
        "feature_data[target_var] = feature_data[target_var].map({'Y': 1, 'N': 0})\n",
        "feature_data = feature_data.dropna(subset=features + [target_var])\n",
        "print('number of rows after dropping NaNs:', len(feature_data))\n",
        "\n",
        "# Select relevant data\n",
        "X = feature_data[features]\n",
        "y = feature_data[target_var]"
      ],
      "metadata": {
        "colab": {
          "base_uri": "https://localhost:8080/"
        },
        "id": "Iq8WYZSCbwLC",
        "outputId": "7cae77bd-63ca-4362-a0fa-8643b40384c2"
      },
      "execution_count": null,
      "outputs": [
        {
          "output_type": "stream",
          "name": "stdout",
          "text": [
            "number of rows after dropping NaNs: 1386\n"
          ]
        }
      ]
    },
    {
      "cell_type": "code",
      "source": [
        "# Split the data into training and testing sets\n",
        "X_train, X_test, y_train, y_test = train_test_split(X, y, test_size=0.2, random_state=42)\n",
        "\n",
        "# Standardize the features\n",
        "## (optional preprocessing but usually done for logistic regression)\n",
        "scaler = StandardScaler()\n",
        "X_train_scaled = scaler.fit_transform(X_train)\n",
        "X_test_scaled = scaler.transform(X_test)\n",
        "\n",
        "# Train sklearn's logistic Rrgression model\n",
        "model = LogisticRegression(random_state=42)\n",
        "model.fit(X_train_scaled, y_train)\n",
        "\n",
        "# Use this to make predictions on the test set\n",
        "y_pred = model.predict(X_test_scaled)\n",
        "\n",
        "# Evaluate performance\n",
        "accuracy = accuracy_score(y_test, y_pred)\n",
        "conf_matrix = confusion_matrix(y_test, y_pred)\n",
        "classification_rep = classification_report(y_test, y_pred)\n",
        "\n",
        "print(f\"Accuracy: {accuracy:.2f}\\n\")\n",
        "print(\"Confusion Matrix:\")\n",
        "print(conf_matrix)\n",
        "print(\"\\nClassification Report:\")\n",
        "print(classification_rep)\n",
        "\n",
        "# Examine feature importance\n",
        "coefficients = model.coef_[0]\n",
        "\n",
        "feature_importance = pd.DataFrame({'Feature': X.columns, 'Importance': abs(coefficients)})\n",
        "feature_importance = feature_importance.sort_values('Importance', ascending=True)\n",
        "feature_importance.plot(x='Feature', y='Importance', kind='barh', figsize=(10, 6))"
      ],
      "metadata": {
        "colab": {
          "base_uri": "https://localhost:8080/",
          "height": 874
        },
        "id": "i4zCauM0cFBv",
        "outputId": "f8937e9d-7a5d-455f-b562-de8611959785"
      },
      "execution_count": null,
      "outputs": [
        {
          "output_type": "stream",
          "name": "stdout",
          "text": [
            "Accuracy: 0.95\n",
            "\n",
            "Confusion Matrix:\n",
            "[[264   0]\n",
            " [ 14   0]]\n",
            "\n",
            "Classification Report:\n",
            "              precision    recall  f1-score   support\n",
            "\n",
            "         0.0       0.95      1.00      0.97       264\n",
            "         1.0       0.00      0.00      0.00        14\n",
            "\n",
            "    accuracy                           0.95       278\n",
            "   macro avg       0.47      0.50      0.49       278\n",
            "weighted avg       0.90      0.95      0.93       278\n",
            "\n"
          ]
        },
        {
          "output_type": "stream",
          "name": "stderr",
          "text": [
            "/usr/local/lib/python3.10/dist-packages/sklearn/metrics/_classification.py:1471: UndefinedMetricWarning: Precision and F-score are ill-defined and being set to 0.0 in labels with no predicted samples. Use `zero_division` parameter to control this behavior.\n",
            "  _warn_prf(average, modifier, msg_start, len(result))\n",
            "/usr/local/lib/python3.10/dist-packages/sklearn/metrics/_classification.py:1471: UndefinedMetricWarning: Precision and F-score are ill-defined and being set to 0.0 in labels with no predicted samples. Use `zero_division` parameter to control this behavior.\n",
            "  _warn_prf(average, modifier, msg_start, len(result))\n",
            "/usr/local/lib/python3.10/dist-packages/sklearn/metrics/_classification.py:1471: UndefinedMetricWarning: Precision and F-score are ill-defined and being set to 0.0 in labels with no predicted samples. Use `zero_division` parameter to control this behavior.\n",
            "  _warn_prf(average, modifier, msg_start, len(result))\n"
          ]
        },
        {
          "output_type": "execute_result",
          "data": {
            "text/plain": [
              "<Axes: ylabel='Feature'>"
            ]
          },
          "metadata": {},
          "execution_count": 5
        },
        {
          "output_type": "display_data",
          "data": {
            "text/plain": [
              "<Figure size 1000x600 with 1 Axes>"
            ],
            "image/png": "[encoded data removed]"
          },
          "metadata": {}
        }
      ]
    },
    {
      "cell_type": "markdown",
      "source": [
        "**The feature importance plot uses seasonal statistics to identify which factors most significantly influence the likelihood of the better team winning the World Series.**\n",
        "\n",
        "\n",
        "**The top five factors with the highest importance are runs scored, opponent's runs scored, hits, strikeouts by batters, and errors. The first two are straightforward: a baseball game's outcome is determined by the number of runs each team scores, making these statistics very important. Runs scored are particularly important as they determine the winner, unlike opponent's runs. Hits and strikeouts are also logical indicators; more hits generally lead to more scoring opportunities, while strikeouts reduce them. Errors can increase the opponent's scoring chances; for instance, a fielding error might allow a ball to remain in play, leading to extra bases for the batter and potentially scoring any runners on base.**\n"
      ],
      "metadata": {
        "id": "UeFSDRJRcTUw"
      }
    },
    {
      "cell_type": "markdown",
      "source": [
        "*3. Invent new features and find out if they are more informative for predictions. [Hint:\n",
        "think about some of the stats you hear about when people discuss baseball, e.g. batting average, winning streaks, run differentials....]. Explain why you’ve chosen these features and transformations and see if the turn out to be important.*"
      ],
      "metadata": {
        "id": "yGpdcEguduNq"
      }
    },
    {
      "cell_type": "code",
      "source": [
        "## Borrowing the code from Lecture 2 notebook\n",
        "\n",
        "# imports\n",
        "import pandas as pd\n",
        "from sklearn.linear_model import LogisticRegression\n",
        "from sklearn.metrics import accuracy_score, classification_report, confusion_matrix\n",
        "from sklearn.model_selection import train_test_split\n",
        "from sklearn.preprocessing import StandardScaler\n",
        "\n",
        "# read data into pandas dataframe\n",
        "with open(DATA_PATH+'L02-mlb_teams.csv', 'r') as fh:\n",
        "    feature_data = pd.read_csv(fh)\n",
        "# Add run differential\n",
        "feature_data['run_differential'] = feature_data['runs_scored'] - feature_data['opponents_runs_scored']\n",
        "# Calculate singles\n",
        "feature_data['singles'] = feature_data['hits'] - (feature_data['doubles'] + feature_data['triples'] + feature_data['homeruns'])\n",
        "\n",
        "# Calculate slugging percentage\n",
        "feature_data['slugging_percentage'] = (\n",
        "    (feature_data['singles'] +\n",
        "     2 * feature_data['doubles'] +\n",
        "     3 * feature_data['triples'] +\n",
        "     4 * feature_data['homeruns']) /\n",
        "    feature_data['at_bats']\n",
        ")\n",
        "\n",
        "print(feature_data[['singles', 'slugging_percentage']].head())\n",
        "\n",
        "\n",
        "print('number of rows:', len(feature_data))\n",
        "feature_data.head()\n",
        "\n",
        "# Define the dependent variable and features\n",
        "target_var = 'world_series_winner'\n",
        "features_adj = ['runs_scored',\n",
        "            'at_bats',\n",
        "            'hits',\n",
        "            'doubles',\n",
        "            'triples',\n",
        "            'homeruns',\n",
        "            'walks',\n",
        "            'strikeouts_by_batters',\n",
        "            'stolen_bases',\n",
        "            'caught_stealing',\n",
        "            'batters_hit_by_pitch',\n",
        "            'sacrifice_flies',\n",
        "            'opponents_runs_scored',\n",
        "            'earned_runs_allowed',\n",
        "            'earned_run_average',\n",
        "            'complete_games',\n",
        "            'shutouts',\n",
        "            'saves',\n",
        "            'outs_pitches',\n",
        "            'hits_allowed',\n",
        "            'homeruns_allowed',\n",
        "            'walks_allowed',\n",
        "            'strikeouts_by_pitchers',\n",
        "            'errors',\n",
        "            'run_differential',\n",
        "            'slugging_percentage']\n",
        "\n",
        "# convert target col to binary and drop NaNs\n",
        "feature_data[target_var] = feature_data[target_var].map({'Y': 1, 'N': 0})\n",
        "feature_data = feature_data.dropna(subset=features_adj + [target_var])\n",
        "print('number of rows after dropping NaNs:', len(feature_data))\n",
        "\n",
        "# Select relevant data\n",
        "X = feature_data[features_adj]\n",
        "y = feature_data[target_var]"
      ],
      "metadata": {
        "colab": {
          "base_uri": "https://localhost:8080/"
        },
        "id": "rkoH3mQZeSZC",
        "outputId": "900562dd-d205-4e76-d634-193c2faa0e1d"
      },
      "execution_count": null,
      "outputs": [
        {
          "output_type": "stream",
          "name": "stdout",
          "text": [
            "   singles  slugging_percentage\n",
            "0      594             0.328435\n",
            "1      755             0.416667\n",
            "2      488             0.270658\n",
            "3      591             0.321697\n",
            "4      553             0.293774\n",
            "number of rows: 2784\n",
            "number of rows after dropping NaNs: 1386\n"
          ]
        }
      ]
    },
    {
      "cell_type": "markdown",
      "source": [
        "**I included run differential as one of the new statistics, as well as slugging percentage. Run differential is the variance between the runs the team allows and the runs they earn which is very important in predicting an outcome of the game. To define the slugging percentage, I first calculated the singles as $Singles = Hits - (Doubles + Triples + Home Runs)$. Then, I introduced slugging percentage using the formula $SLG = \\frac {Singles + 2*Doubles +3*Triples +4*Home Runs}{At Bats}$.**\n",
        "\n",
        "**This formula assigns a weight to each type of hit based on the number of bases it earns: singles (1 base), doubles (2 bases), triples (3 bases), and home runs (4 bases). SLG is an important statistic to evaluate a player's ability to hit for power as it reflects how often they hit for extra bases.**\n"
      ],
      "metadata": {
        "id": "DLtyhA0VfghZ"
      }
    },
    {
      "cell_type": "code",
      "source": [
        "# Split the data into training and testing sets\n",
        "X_train, X_test, y_train, y_test = train_test_split(X, y, test_size=0.2, random_state=42)\n",
        "\n",
        "# Standardize the features\n",
        "## (optional preprocessing but usually done for logistic regression)\n",
        "scaler = StandardScaler()\n",
        "X_train_scaled = scaler.fit_transform(X_train)\n",
        "X_test_scaled = scaler.transform(X_test)\n",
        "\n",
        "# Train sklearn's logistic Rrgression model\n",
        "model = LogisticRegression(random_state=42)\n",
        "model.fit(X_train_scaled, y_train)\n",
        "\n",
        "# Use this to make predictions on the test set\n",
        "y_pred = model.predict(X_test_scaled)\n",
        "\n",
        "# Evaluate performance\n",
        "accuracy = accuracy_score(y_test, y_pred)\n",
        "conf_matrix = confusion_matrix(y_test, y_pred)\n",
        "classification_rep = classification_report(y_test, y_pred)\n",
        "\n",
        "print(f\"Accuracy: {accuracy:.2f}\\n\")\n",
        "print(\"Confusion Matrix:\")\n",
        "print(conf_matrix)\n",
        "print(\"\\nClassification Report:\")\n",
        "print(classification_rep)\n",
        "\n",
        "# Examine feature importance\n",
        "coefficients = model.coef_[0]\n",
        "\n",
        "feature_importance = pd.DataFrame({'Feature': X.columns, 'Importance': abs(coefficients)})\n",
        "feature_importance = feature_importance.sort_values('Importance', ascending=True)\n",
        "feature_importance.plot(x='Feature', y='Importance', kind='barh', figsize=(10, 6))"
      ],
      "metadata": {
        "colab": {
          "base_uri": "https://localhost:8080/",
          "height": 837
        },
        "id": "qpG4gkqyjdr2",
        "outputId": "adb3d64a-5251-464e-82bc-c64ea5ea56ae"
      },
      "execution_count": null,
      "outputs": [
        {
          "output_type": "stream",
          "name": "stdout",
          "text": [
            "Accuracy: 0.95\n",
            "\n",
            "Confusion Matrix:\n",
            "[[264   0]\n",
            " [ 13   1]]\n",
            "\n",
            "Classification Report:\n",
            "              precision    recall  f1-score   support\n",
            "\n",
            "         0.0       0.95      1.00      0.98       264\n",
            "         1.0       1.00      0.07      0.13        14\n",
            "\n",
            "    accuracy                           0.95       278\n",
            "   macro avg       0.98      0.54      0.55       278\n",
            "weighted avg       0.96      0.95      0.93       278\n",
            "\n"
          ]
        },
        {
          "output_type": "execute_result",
          "data": {
            "text/plain": [
              "<Axes: ylabel='Feature'>"
            ]
          },
          "metadata": {},
          "execution_count": 16
        },
        {
          "output_type": "display_data",
          "data": {
            "text/plain": [
              "<Figure size 1000x600 with 1 Axes>"
            ],
            "image/png": "[encoded data removed]"
          },
          "metadata": {}
        }
      ]
    },
    {
      "cell_type": "markdown",
      "source": [
        "**It looks like run differential plays a crucial role in predicting an outcome of a match which was expected. Slugging percentage makes it to top-4 most important statistics, holding back by just $~0.45$. This aligns with my expectation for the importance of this statistic as to predict an outcome of a match we need to know a player's battling productivity.**"
      ],
      "metadata": {
        "id": "goWM9DzckA60"
      }
    },
    {
      "cell_type": "markdown",
      "source": [
        "*4. How could you use this type of analysis to improve Mostellar’s model? Note: Just propose ideas, you do not need to carry them out.*\n",
        "\n",
        "**By introducing multiple variables affecting the outcome of the game, we found that it is very important to take into account different parameters when assessing what team has a better chance of winning. Therefore, one of the ways to improve the Mostellar's model is to take into account different features and statistics to calculate a more accurate $p$ of winning. However, it would be also interesting to explore how the importance of the statistics change depending on a team's style of baseball. For instance, seeing if the statistics importance differ if a team relies heavily on a pitcher's ability to strikeout versus on a 'fielding' portion of the game.**"
      ],
      "metadata": {
        "id": "20He5azClUSP"
      }
    },
    {
      "cell_type": "markdown",
      "source": [
        "##**Problem 4: Simulating a tournament (10 points)**\n",
        "\n",
        "*Consider a tournament with 8 teams.*"
      ],
      "metadata": {
        "id": "YG9FcL8sDJJi"
      }
    },
    {
      "cell_type": "markdown",
      "source": [
        "*1. From the previous games, estimate pij, the probability that team i will beat team j in\n",
        "a given game.*"
      ],
      "metadata": {
        "id": "WJB_W3O2EMqN"
      }
    },
    {
      "cell_type": "code",
      "source": [
        "import gdown\n",
        "import numpy as np\n",
        "import matplotlib.pyplot as plt\n",
        "import pandas as pd\n",
        "\n",
        "plt.rcParams.update({'font.size': 15})\n",
        "\n",
        "file_id = '17I9fQgdt2rBCPSTa2zMF5ygP9Qaqof65'\n",
        "gdown.download(f'https://drive.google.com/uc?id={file_id}', 'game_results_am115_PS1.csv', quiet=False)\n",
        "\n",
        "# Load the CSV file\n",
        "tournament_history = pd.read_csv('game_results_am115_PS1.csv')\n",
        "print(tournament_history.head())\n"
      ],
      "metadata": {
        "colab": {
          "base_uri": "https://localhost:8080/",
          "height": 0
        },
        "id": "ALIf7ymBIzeu",
        "outputId": "00919ef1-fccf-4dea-d24a-0725e88b9e4d"
      },
      "execution_count": 1,
      "outputs": [
        {
          "output_type": "stream",
          "name": "stderr",
          "text": [
            "Downloading...\n",
            "From: https://drive.google.com/uc?id=17I9fQgdt2rBCPSTa2zMF5ygP9Qaqof65\n",
            "To: /content/game_results_am115_PS1.csv\n",
            "100%|██████████| 3.02k/3.02k [00:00<00:00, 2.59MB/s]"
          ]
        },
        {
          "output_type": "stream",
          "name": "stdout",
          "text": [
            "   Team 1  Team 2  Winner\n",
            "0       7       4       7\n",
            "1       2       3       2\n",
            "2       2       4       2\n",
            "3       7       7       7\n",
            "4       3       7       7\n"
          ]
        },
        {
          "output_type": "stream",
          "name": "stderr",
          "text": [
            "\n"
          ]
        }
      ]
    },
    {
      "cell_type": "code",
      "source": [
        "## Collaborated with Nico Hensch when thinking about how to approach problem 4.\n",
        "# Constants\n",
        "NUM_TEAMS = 8\n",
        "initial_matches = [[6, 0], [3, 4], [7, 5], [2, 1]]\n",
        "print('Initial matches:', initial_matches)\n",
        "\n",
        "# Get the unique team names from the data\n",
        "teams = tournament_history['Winner'].unique()\n",
        "\n",
        "print(f'Total teams: {len(teams)}')\n",
        "\n",
        "# Define logistic function for probability calculations\n",
        "def logistic_function(x):\n",
        "    return 1 / (1 + 10**(-x))\n",
        "\n",
        "# Function to compute the winning probability based on Elo ratings\n",
        "def winning_probability(elo_team_a, elo_team_b, S=400):\n",
        "    return logistic_function((elo_team_a - elo_team_b) / S)\n",
        "\n",
        "# Initialize Elo ratings for each team\n",
        "INITIAL_ELO = 1400\n",
        "elo_ratings = {team: INITIAL_ELO for team in sorted(teams)}\n",
        "\n",
        "# Elo rating adjustment constant\n",
        "K_FACTOR = 20\n",
        "\n",
        "# Iterate through the results to update Elo ratings\n",
        "for _, match in tournament_history.iterrows():\n",
        "    winner = match['Winner']\n",
        "    loser = match['Team 1'] + match['Team 2'] - winner\n",
        "\n",
        "    # Get the latest Elo ratings\n",
        "    elo_winner = elo_ratings[winner]\n",
        "    elo_loser = elo_ratings[loser]\n",
        "\n",
        "    # Calculate the expected scores\n",
        "    p_winner = winning_probability(elo_winner, elo_loser)\n",
        "    p_loser = 1 - p_winner\n",
        "\n",
        "    # Update Elo ratings\n",
        "    elo_ratings[winner] += K_FACTOR * (1 - p_winner)\n",
        "    elo_ratings[loser] += K_FACTOR * (0 - p_loser)\n",
        "\n",
        "# Display the final Elo rankings\n",
        "print(\"\\nFinal Elo Rankings:\")\n",
        "\n",
        "sorted_rankings = sorted(elo_ratings.items(), key=lambda x: x[1], reverse=True)\n",
        "\n",
        "for rank, (team, rating) in enumerate(sorted_rankings, start=1):\n",
        "    print(f'{rank}\\t{rating:.2f}\\t\\t{team}')"
      ],
      "metadata": {
        "colab": {
          "base_uri": "https://localhost:8080/",
          "height": 0
        },
        "id": "ZvAydwqg_50I",
        "outputId": "36587ad6-9f88-4881-82e8-929c927fe7a9"
      },
      "execution_count": 36,
      "outputs": [
        {
          "output_type": "stream",
          "name": "stdout",
          "text": [
            "Initial matches: [[6, 0], [3, 4], [7, 5], [2, 1]]\n",
            "Total teams: 8\n",
            "\n",
            "Final Elo Rankings:\n",
            "1\t1721.19\t\t7\n",
            "2\t1595.47\t\t5\n",
            "3\t1525.96\t\t0\n",
            "4\t1512.16\t\t1\n",
            "5\t1443.17\t\t6\n",
            "6\t1230.96\t\t2\n",
            "7\t1123.27\t\t3\n",
            "8\t1047.81\t\t4\n"
          ]
        }
      ]
    },
    {
      "cell_type": "code",
      "source": [
        "## Borrowed and modified from Lecture 4 notebook\n",
        "\n",
        "def convert_elo_to_pair_probabilities(elo_scores, S=400):\n",
        "    # Create an empty matrix to store the probabilities.\n",
        "    probabilities = np.zeros((len(elo_scores), len(elo_scores)))\n",
        "\n",
        "  # Calculate the probability of each team winning against each other team.\n",
        "    for i in range(len(elo_scores)):\n",
        "\n",
        "        probabilities[i, i] = 0.5\n",
        "\n",
        "        for j in range(i + 1, len(elo_scores)):\n",
        "            # Calculate the expected score difference.\n",
        "            expected_score_diff = (elo_scores[i] - elo_scores[j]) / S\n",
        "\n",
        "            # Calculate the probability of team i winning.\n",
        "            probability_i = 1 / (1 + 10**(-expected_score_diff))\n",
        "\n",
        "            # Set the probabilities for both i vs j and j vs i (since they are equivalent).\n",
        "            probabilities[i, j] = probability_i\n",
        "            probabilities[j, i] = 1 - probability_i\n",
        "\n",
        "    return probabilities"
      ],
      "metadata": {
        "id": "o0zQGvvJAWVo"
      },
      "execution_count": 18,
      "outputs": []
    },
    {
      "cell_type": "code",
      "source": [
        "# Prepare Elo scores for pairwise probability calculations\n",
        "elo_scores = [elo_ratings[team] for team in sorted(elo_ratings.keys())]\n",
        "\n",
        "# Calculate pairwise probabilities\n",
        "P = convert_elo_to_pair_probabilities(elo_scores)\n",
        "\n",
        "# Print the 8x8 pairwise probability matrix\n",
        "num_teams = len(elo_scores)\n",
        "print(\"\\nPairwise Winning Probabilities:\")\n",
        "for i in range(num_teams):\n",
        "    row_output = []\n",
        "    for j in range(num_teams):\n",
        "        if i != j:\n",
        "            row_output.append(f\"{P[i, j]:.4f}\")\n",
        "        else:\n",
        "            row_output.append(\"0.0000\")  # Diagonal entries are 0\n",
        "    print(\" \".join(row_output))\n",
        "\n"
      ],
      "metadata": {
        "colab": {
          "base_uri": "https://localhost:8080/",
          "height": 0
        },
        "id": "EAsjdeFIAxx3",
        "outputId": "1aab2a95-f245-4ac9-c482-53da225caf79"
      },
      "execution_count": 33,
      "outputs": [
        {
          "output_type": "stream",
          "name": "stdout",
          "text": [
            "\n",
            "Pairwise Winning Probabilities:\n",
            "0.0000 0.5199 0.8453 0.9104 0.9401 0.4013 0.6169 0.2453\n",
            "0.4801 0.0000 0.8346 0.9037 0.9354 0.3823 0.5980 0.2309\n",
            "0.1547 0.1654 0.0000 0.6502 0.7416 0.1093 0.2277 0.0561\n",
            "0.0896 0.0963 0.3498 0.0000 0.6069 0.0619 0.1369 0.0310\n",
            "0.0599 0.0646 0.2584 0.3931 0.0000 0.0410 0.0931 0.0203\n",
            "0.5987 0.6177 0.8907 0.9381 0.9590 0.0000 0.7061 0.3266\n",
            "0.3831 0.4020 0.7723 0.8631 0.9069 0.2939 0.0000 0.1679\n",
            "0.7547 0.7691 0.9439 0.9690 0.9797 0.6734 0.8321 0.0000\n"
          ]
        }
      ]
    },
    {
      "cell_type": "markdown",
      "source": [
        "**The probability matrix above is a $p_{ij}$ matrix where a probability of team $i$ winning against team $j$ is reflected as the $ij$ entrance in the  matrix. The team can't play itself, so the corresponding entrances are equal to $0$.**"
      ],
      "metadata": {
        "id": "MHVKhAskNyU5"
      }
    },
    {
      "cell_type": "markdown",
      "source": [
        "*2. Given your estimates of pij, carry out simulations of the draw. For each team, predict\n",
        "the probability that it reaches the semi-finals; the finals and is the tournament champion. Thus you should create a matrix $W_{ij}$, where the first index labels the team, and\n",
        "the second index $W_{i0}$ is the probability the team makes the semi finals; $W_{i1}$ is the\n",
        "probability that the team makes the finals and $W_{i2}$ is the probability that the team\n",
        "makes the finals.*"
      ],
      "metadata": {
        "id": "BZgjo_9YOPF_"
      }
    },
    {
      "cell_type": "code",
      "source": [
        "import numpy as np\n",
        "import pandas as pd\n",
        "\n",
        "def simulate_8team_tournament(initial_matches, P, num_teams):\n",
        "\n",
        "    # Quarter-finals\n",
        "    semi_final = []\n",
        "    for i, j in initial_matches:\n",
        "        win_i = bool(np.random.uniform() < P[i, j])\n",
        "        if win_i:\n",
        "            semi_final.append(i)\n",
        "        else:\n",
        "            semi_final.append(j)\n",
        "\n",
        "    # Semi-finals\n",
        "    final = []\n",
        "    for i, j in zip(semi_final[::2], semi_final[1::2]):\n",
        "        win_i = bool(np.random.uniform() < P[i, j])\n",
        "        if win_i:\n",
        "            final.append(i)\n",
        "        else:\n",
        "            final.append(j)\n",
        "\n",
        "    # Final\n",
        "    i, j = final\n",
        "    win_i = bool(np.random.uniform() < P[i, j])\n",
        "    winner = i if win_i else j\n",
        "\n",
        "    return [initial_matches, semi_final, final, winner]\n",
        "\n",
        "def calculate_probabilities(initial_matches, P, num_simulations=10000):\n",
        "    W = np.zeros((8, 3))\n",
        "\n",
        "    for _ in range(num_simulations):\n",
        "        _, semi_final, final, winner = simulate_8team_tournament(initial_matches, P, 8)\n",
        "\n",
        "        for team in semi_final:\n",
        "            W[team, 0] += 1\n",
        "\n",
        "        for team in final:\n",
        "            W[team, 1] += 1\n",
        "\n",
        "        W[winner, 2] += 1\n",
        "\n",
        "    W /= num_simulations\n",
        "\n",
        "    return W\n",
        "\n",
        "# Simulate and calculate probabilities\n",
        "num_simulations = 100000\n",
        "probability_matrix = calculate_probabilities(initial_matches, P, num_simulations)\n",
        "\n",
        "df_submission = pd.DataFrame(probability_matrix, columns=[\"0\", \"1\", \"2\"])\n",
        "df_submission.reset_index(inplace=False)\n",
        "\n",
        "print(df_submission)\n",
        "\n"
      ],
      "metadata": {
        "colab": {
          "base_uri": "https://localhost:8080/",
          "height": 0
        },
        "id": "JbMuLtgW-gOc",
        "outputId": "133f97c0-b3d6-4861-c3bd-54c674876875"
      },
      "execution_count": 35,
      "outputs": [
        {
          "output_type": "stream",
          "name": "stdout",
          "text": [
            "         0        1        2\n",
            "0  0.61638  0.56797  0.20092\n",
            "1  0.83330  0.23588  0.13290\n",
            "2  0.16670  0.01214  0.00257\n",
            "3  0.60518  0.06482  0.00371\n",
            "4  0.39482  0.02943  0.00116\n",
            "5  0.32646  0.21549  0.14357\n",
            "6  0.38362  0.33778  0.08678\n",
            "7  0.67354  0.53649  0.42839\n"
          ]
        }
      ]
    },
    {
      "cell_type": "markdown",
      "source": [
        "3. **Results were submitted to Kaggle.**"
      ],
      "metadata": {
        "id": "ITLyU84oGUuy"
      }
    },
    {
      "cell_type": "markdown",
      "source": [
        "4. **For a real sports competition like March Madness, I would analyze historical game data to estimate the probability of each team winning against another using a model that I would create based on factors such as team performance, player statistics, and head-to-head results. Creating the model would require me to gather and clean a dataset (that I am not sure where I would get wrom), which could present challenges like missing data, inconsistent formats, or the need to account for biases such as home-court advantage. Also, accurately predicting winning probabilities could be difficult due to factors like player injuries, changes in team strategy, and the inherent variability of sports outcomes.**"
      ],
      "metadata": {
        "id": "5zy-SEjVFzjT"
      }
    },
    {
      "cell_type": "markdown",
      "source": [
        "##**Problem 5: Apply these ideas to a tennis match (10 points)**\n",
        "*Use the mathematical formalism that we have introduced to write out a series of steps to create a mathematical model for a tennis match. You are only required to write out the series of steps, not implement the steps.*\n",
        "\n",
        "1. *Make a model for an individual game, where there is a probability that a player wins\n",
        "a point is a parameter. Note that whoever serves typically has a higher probability\n",
        "of winning a point. Note that there is a serious complication over the world series,\n",
        "which is that a player must win by two points. How can you deal with this?*\n",
        "\n",
        "**My model will consist of four main parameters: $P_{is}$ and $P_{js}$ represent the probability that player $i$ or $j$ wins a point when serving, while $P_{ir}$ and $P_{jr}$ are their respective probabilities when receiving. To address the increase in the probability of scoring during the serve, I will ensure that $P_{is} > P_{ir}$ and $P_{js} > P_{jr}$ when running the simulation. To enhance the model, I can also introduce a stamina factor for each player, based off such factors as age, previous game statistics, and injuries, denoted as $S_i$ and $S_j$. This parameter accounts for the physical endurance of the players, reflecting that as the match progresses, their ability to win points may decline. For instance, after every four points played, I could reduce their probabilities of winning points slightly.**\n",
        "\n",
        "**With these four probabilities, I can conduct Monte Carlo simulations for each game, treating every point as a Bernoulli trial. Each simulation will have two scenarios: one where player $i$ serves, using $P_{is}$ and $P_{jr}$, and another where player $j$serves, using $P_{js}$ and $P_{ir}$. To adhere to the two-points rule, I will introduce a function that will simulate additional rounds until one player has a 2-point lead.**\n"
      ],
      "metadata": {
        "id": "xoj60JH5GwKD"
      }
    },
    {
      "cell_type": "markdown",
      "source": [
        "2. *Given the probability that a player wins a game, turn this into the probability that\n",
        "they will win a set. Assume tiebreakers are not allowed, and just assume that (like in\n",
        "the case of the game) that a player must win by two games.*\n",
        "\n",
        "**To turn game-winning probability into set-winning probability without tiebreakers, I can start by calculating the game-winning probabilities. Let $P_{{game},i}$ be the probability that player $i$ wins a single game, and $P_{{game},j} = 1 - P_{{game},i}$ be the probability that player $j$ wins a single game. To win a set, a player must win at least 6 games and lead by 2 games. The probability of winning a set can then be modeled as a binomial distribution with a stopping rule to account for this win-by-two condition. The probability that player $i$ wins a set is the cumulative probability of winning 6 games while maintaining a 2-game lead, represented as:\n",
        "$$P_{{set},i} = \\sum_{g=6}^{N} P_{{win-by-two}}(g, P_{{game},i})$$\n",
        "where $P_{{win-by-two}}(g, P_{\\text{game},i})$ represents the probability that player $i$ wins $g$ games while maintaining at least a 2-game lead.**\n"
      ],
      "metadata": {
        "id": "5MRfq1wUKG0d"
      }
    },
    {
      "cell_type": "markdown",
      "source": [
        "3. *A match is 2 out of 3 sets.*\n",
        "\n",
        "**For this case I can use the same parameteres and probabilities defined above. I can model individual games as Bernoulli trials within Monte Carlo simulations, with random variables X and Y representing sets won by each player and taking probabilities found above as inputs for the Bernoulli trials. I can define the sample space $Ω$ and event space $F$, calculate match-winning probabilities, and estimate match duration using similar approaches I used in this problem set.**"
      ],
      "metadata": {
        "id": "nida02udIm0Q"
      }
    }
  ]
}